{
 "cells": [
  {
   "cell_type": "code",
   "execution_count": 105,
   "metadata": {},
   "outputs": [],
   "source": [
    "#This is the notebook to set and train the forecaster\n",
    "PATH_TO_PROFILES = ''\n",
    "PATH_TO_DATA = ''"
   ]
  },
  {
   "cell_type": "code",
   "execution_count": 106,
   "metadata": {},
   "outputs": [],
   "source": [
    "import sys\n",
    "sys.path.insert(0,\"/Users/augustecousin/Documents/bel_gm_tool/gm_tool/\")"
   ]
  },
  {
   "cell_type": "code",
   "execution_count": 107,
   "metadata": {},
   "outputs": [],
   "source": [
    "import pandas as pd\n",
    "import numpy as np\n",
    "\n",
    "from xgboost import XGBRegressor\n",
    "\n",
    "from datamanager.DM_Belgique import DM_Belgique"
   ]
  },
  {
   "cell_type": "code",
   "execution_count": 108,
   "metadata": {},
   "outputs": [],
   "source": [
    "data_manager = DM_Belgique()\n",
    "#path = '../../../../Pivot & Co/Bel 2022 - 1. Growth Modelling/2. Design (Tool)/_Raoul/220207_Belgium_Dataset.csv'\n",
    "data_manager.open_excel()\n",
    "data_manager.df.rename(columns={'ACV': 'Distribution'}, inplace=True)\n"
   ]
  },
  {
   "cell_type": "code",
   "execution_count": 109,
   "metadata": {},
   "outputs": [],
   "source": [
    "df = data_manager.df.copy()\n",
    "float_cols = ['Sales in value','Sales in volume', 'Distribution', 'Price per Volume',\n",
    "              'Price without Promo', 'Sales value with Promo', 'Sales volume with Promo']\n",
    "df[float_cols] = df[float_cols].apply(pd.to_numeric, errors = 'coerce', axis=1)"
   ]
  },
  {
   "cell_type": "code",
   "execution_count": 110,
   "metadata": {},
   "outputs": [],
   "source": [
    "categories = df[\"Category\"].unique().tolist()\n",
    "\n",
    "sub_categories = df[\"Sub Category\"].unique().tolist()\n",
    "sub_categories.remove(\"ALL SUB CATEGORIES\")"
   ]
  },
  {
   "cell_type": "code",
   "execution_count": 111,
   "metadata": {},
   "outputs": [],
   "source": [
    "brands_to_remove = [\"ALL BRANDS\", \"PL\", \"ZZ OTHERS\", \"SS.MARQUE\", \"UNBRANDED\"]\n",
    "brands_to_keep = [brand for brand in df[\"Brand\"].unique() if brand not in brands_to_remove]\n"
   ]
  },
  {
   "cell_type": "code",
   "execution_count": 112,
   "metadata": {},
   "outputs": [],
   "source": [
    "dict_dates = {\"M1\": {\"Min\": \"2018-04-01\", \"Max\": \"2018-05-01\"}, \n",
    "              \"M2\": {\"Min\": \"2018-05-01\", \"Max\": \"2018-06-01\"}, \n",
    "              \"M3\": {\"Min\": \"2018-06-01\", \"Max\": \"2018-07-01\"}, \n",
    "              \"M4\": {\"Min\": \"2018-07-01\", \"Max\": \"2018-08-01\"}, \n",
    "              \"M5\": {\"Min\": \"2018-08-01\", \"Max\": \"2018-09-01\"}, \n",
    "              \"M6\": {\"Min\": \"2018-09-01\", \"Max\": \"2018-10-01\"}, \n",
    "              \"M7\": {\"Min\": \"2018-10-01\", \"Max\": \"2018-11-01\"}, \n",
    "              \"M8\": {\"Min\": \"2018-11-01\", \"Max\": \"2018-12-01\"}, \n",
    "              \"M9\": {\"Min\": \"2018-12-01\", \"Max\": \"2019-01-01\"}, \n",
    "              \"M10\": {\"Min\": \"2019-01-01\", \"Max\": \"2019-02-01\"}, \n",
    "              \"M11\": {\"Min\": \"2019-02-01\", \"Max\": \"2019-03-01\"}, \n",
    "              \"M12\": {\"Min\": \"2019-03-01\", \"Max\": \"2019-04-01\"}, \n",
    "              \"M13\": {\"Min\": \"2019-04-01\", \"Max\": \"2019-05-01\"}, \n",
    "              \"M14\": {\"Min\": \"2019-05-01\", \"Max\": \"2019-06-01\"}, \n",
    "              \"M15\": {\"Min\": \"2019-06-01\", \"Max\": \"2019-07-01\"}, \n",
    "              \"M16\": {\"Min\": \"2019-07-01\", \"Max\": \"2019-08-01\"}, \n",
    "              \"M17\": {\"Min\": \"2019-08-01\", \"Max\": \"2019-09-01\"}, \n",
    "              \"M18\": {\"Min\": \"2019-09-01\", \"Max\": \"2019-10-01\"}, \n",
    "              \"M19\": {\"Min\": \"2019-10-01\", \"Max\": \"2019-11-01\"}, \n",
    "              \"M20\": {\"Min\": \"2019-11-01\", \"Max\": \"2019-12-01\"}, \n",
    "              \"M21\": {\"Min\": \"2019-12-01\", \"Max\": \"2020-01-01\"}, \n",
    "              \"M22\": {\"Min\": \"2020-01-01\", \"Max\": \"2020-02-01\"}, \n",
    "              \"M23\": {\"Min\": \"2020-02-01\", \"Max\": \"2020-03-01\"}, \n",
    "              \"M24\": {\"Min\": \"2020-03-01\", \"Max\": \"2020-04-01\"}, \n",
    "              \"M25\": {\"Min\": \"2020-04-01\", \"Max\": \"2020-05-01\"}, \n",
    "              \"M26\": {\"Min\": \"2020-05-01\", \"Max\": \"2020-06-01\"}, \n",
    "              \"M27\": {\"Min\": \"2020-06-01\", \"Max\": \"2020-07-01\"}, \n",
    "              \"M28\": {\"Min\": \"2020-07-01\", \"Max\": \"2020-08-01\"}, \n",
    "              \"M29\": {\"Min\": \"2020-08-01\", \"Max\": \"2020-09-01\"}, \n",
    "              \"M30\": {\"Min\": \"2020-09-01\", \"Max\": \"2020-10-01\"}, \n",
    "              \"M31\": {\"Min\": \"2020-10-01\", \"Max\": \"2020-11-01\"}, \n",
    "              \"M32\": {\"Min\": \"2020-11-01\", \"Max\": \"2020-12-01\"}, \n",
    "              \"M33\": {\"Min\": \"2020-12-01\", \"Max\": \"2021-01-01\"}, \n",
    "              \"M34\": {\"Min\": \"2021-01-01\", \"Max\": \"2021-02-01\"}, \n",
    "              \"M35\": {\"Min\": \"2021-02-01\", \"Max\": \"2021-03-01\"}, \n",
    "              \"M36\": {\"Min\": \"2021-03-01\", \"Max\": \"2021-04-01\"}, \n",
    "              \"Y1\": {\"Min\": \"2018-04-01\", \"Max\": \"2019-04-01\"}, \n",
    "              \"Y2\": {\"Min\": \"2019-04-01\", \"Max\": \"2020-04-01\"}, \n",
    "              \"Y3\": {\"Min\": \"2020-04-01\", \"Max\": \"2021-04-01\"}, \n",
    "              \"3Y\": {\"Min\": \"2018-04-01\", \"Max\": \"2021-04-01\"}}"
   ]
  },
  {
   "cell_type": "code",
   "execution_count": 113,
   "metadata": {},
   "outputs": [],
   "source": [
    "def get_data(df, category=\"all\", subcategory=\"all\", brand=\"all\", \n",
    "             date_min=\"all\", date_max=\"all\", period_min=\"all\", period_max=\"all\"):\n",
    "    \n",
    "    if category != \"all\":\n",
    "        df = df[df[\"Category\"].isin(category)]\n",
    "    if subcategory != \"all\":\n",
    "        df = df[df[\"Sub Category\"].isin(subcategory)]\n",
    "    if brand != \"all\":\n",
    "        df = df[df[\"Brand\"].isin(brand)]\n",
    "    if date_min != \"all\":\n",
    "        df = df[df[\"Date\"] >= date_min]\n",
    "    if date_max != \"all\":\n",
    "        df = df[df[\"Date\"] < date_max]\n",
    "    if period_min != \"all\":\n",
    "        df = df[df[\"Period\"] >= period_min]\n",
    "    if period_max != \"all\":\n",
    "        df = df[df[\"Period\"] <= period_max]\n",
    "    \n",
    "    return df"
   ]
  },
  {
   "cell_type": "code",
   "execution_count": 114,
   "metadata": {},
   "outputs": [],
   "source": [
    "df_eda = get_data(df=df, \n",
    "         category=\"all\", brand=[brand for brand in brands_to_keep], \n",
    "         period_min=1, period_max=40)[[\"Date\", \"Period\", \"Category\", \"Sub Category\", \"Brand\", \"Distribution\", \"Price per Volume\", \"Price without Promo\", \"Sales in volume\"]]\n",
    "\n",
    "df_eda = df_eda.reset_index(drop=True)"
   ]
  },
  {
   "cell_type": "code",
   "execution_count": 115,
   "metadata": {},
   "outputs": [],
   "source": [
    "df_brand_categ = df.groupby(['Brand'])['Category'].agg(Number_of_Categories = \"nunique\").reset_index().rename(columns={'Number_of_Categories':'Number of Categories'})"
   ]
  },
  {
   "cell_type": "code",
   "execution_count": 116,
   "metadata": {},
   "outputs": [],
   "source": [
    "df_eda = pd.merge(df_eda, df_brand_categ, on=\"Brand\", how=\"left\")"
   ]
  },
  {
   "cell_type": "code",
   "execution_count": 117,
   "metadata": {},
   "outputs": [],
   "source": [
    "df_brand_sub_cat = df.groupby(['Brand', 'Category'])['Sub Category'].agg(Sub_Categories='nunique').reset_index().rename(columns={'Sub_Categories':'Number of Sub Categories'})"
   ]
  },
  {
   "cell_type": "code",
   "execution_count": 118,
   "metadata": {},
   "outputs": [],
   "source": [
    "df_eda = pd.merge(df_eda, df_brand_sub_cat, on=[\"Brand\", 'Category'], how=\"left\")"
   ]
  },
  {
   "cell_type": "code",
   "execution_count": 119,
   "metadata": {},
   "outputs": [
    {
     "name": "stderr",
     "output_type": "stream",
     "text": [
      "/var/folders/3n/8sjtl4yd5k518vq7tdlbr_nm0000gn/T/ipykernel_39737/267384797.py:1: FutureWarning: Series.dt.weekofyear and Series.dt.week have been deprecated. Please use Series.dt.isocalendar().week instead.\n",
      "  df_eda.insert(2, \"Week of year\", df_eda.Date.dt.weekofyear.values.tolist())\n"
     ]
    }
   ],
   "source": [
    "df_eda.insert(2, \"Week of year\", df_eda.Date.dt.weekofyear.values.tolist())\n",
    "df_eda.insert(3, \"Is month start\", df_eda.Date.dt.is_month_start.astype(int).values.tolist())\n",
    "df_eda.insert(3, \"Is month end\", df_eda.Date.dt.is_month_end.astype(int).values.tolist())"
   ]
  },
  {
   "cell_type": "code",
   "execution_count": 120,
   "metadata": {},
   "outputs": [],
   "source": [
    "#train = df_train_test_lag_roll_ewm_ohe.loc[(df_train_test_lag_roll_ewm_ohe[\"Period\"] < 37), :]\n",
    "#val = df_train_test_lag_roll_ewm_ohe.loc[(df_train_test_lag_roll_ewm_ohe[\"Period\"] >= 37), :]"
   ]
  },
  {
   "cell_type": "code",
   "execution_count": 121,
   "metadata": {},
   "outputs": [],
   "source": [
    "def random_noise(df):\n",
    "    return np.random.normal(scale=0.01, size=(len(df),))\n",
    "\n",
    "def lag_features(df, lags):\n",
    "    for lag in lags:\n",
    "        df['Sales lag ' + str(lag)] = df.groupby([\"Category\", \"Sub Category\", \"Brand\"])['Sales in volume'].transform(\n",
    "            lambda x: x.shift(lag)) + random_noise(df)\n",
    "        df['Sales lag ' + str(lag)] = df['Sales lag ' + str(lag)].apply(lambda x: 0 if x < 0 else x)\n",
    "    return df\n",
    "\n",
    "def roll_mean_features(df, windows):\n",
    "    for window in windows:\n",
    "        df['Sales roll mean ' + str(window)] = df.groupby([\"Category\", \"Sub Category\", \"Brand\"])['Sales in volume'].transform(\n",
    "            lambda x: x.shift(1).rolling(window=window, min_periods=2, win_type=\"triang\").mean()) + random_noise(df)\n",
    "    return df\n",
    "\n",
    "def ewm_features(df, alphas, lags):\n",
    "    for alpha in alphas:\n",
    "        for lag in lags:\n",
    "            df['Sales ewm alpha ' + str(alpha).replace(\".\", \"\") + \" lag \" + str(lag)] = \\\n",
    "                df.groupby([\"Category\", \"Sub Category\", \"Brand\"])['Sales in volume'].transform(lambda x: x.shift(lag).ewm(alpha=alpha).mean())\n",
    "    return df"
   ]
  },
  {
   "cell_type": "code",
   "execution_count": 127,
   "metadata": {},
   "outputs": [],
   "source": [
    "lags_list = [1, 2, 3, 4, 5, 6, 9, 13, 15, 20, 26] \n",
    "df_train_test_lag = lag_features(df_eda, lags_list)"
   ]
  },
  {
   "cell_type": "code",
   "execution_count": 129,
   "metadata": {},
   "outputs": [],
   "source": [
    "roll_mean_list = [2, 3, 6, 9, 13, 20, 26, 30, 39] \n",
    "df_train_test_lag_roll = roll_mean_features(df_train_test_lag, roll_mean_list)"
   ]
  },
  {
   "cell_type": "code",
   "execution_count": 132,
   "metadata": {},
   "outputs": [],
   "source": [
    "alphas_list = [0.95, 0.9, 0.8, 0.7, 0.5]\n",
    "lags_list = [1, 2, 3, 4, 5, 6, 9, 13, 15, 20, 26]\n",
    "df_train_test_lag_roll_ewm = ewm_features(df_train_test_lag_roll, alphas_list, lags_list)"
   ]
  },
  {
   "cell_type": "code",
   "execution_count": 136,
   "metadata": {},
   "outputs": [
    {
     "data": {
      "text/plain": [
       "0        1.3403\n",
       "1        0.5305\n",
       "2        0.0133\n",
       "3        0.0008\n",
       "4        0.0003\n",
       "          ...  \n",
       "17155    0.0000\n",
       "17156    0.0000\n",
       "17157    0.0000\n",
       "17158    0.0000\n",
       "17159    0.0000\n",
       "Name: Sales in volume, Length: 17160, dtype: float64"
      ]
     },
     "execution_count": 136,
     "metadata": {},
     "output_type": "execute_result"
    }
   ],
   "source": [
    "df_train_test_lag_roll_ewm['Sales in volume']"
   ]
  },
  {
   "cell_type": "code",
   "execution_count": null,
   "metadata": {},
   "outputs": [],
   "source": []
  }
 ],
 "metadata": {
  "kernelspec": {
   "display_name": "gm_tool",
   "language": "python",
   "name": "gm_tool"
  },
  "language_info": {
   "codemirror_mode": {
    "name": "ipython",
    "version": 3
   },
   "file_extension": ".py",
   "mimetype": "text/x-python",
   "name": "python",
   "nbconvert_exporter": "python",
   "pygments_lexer": "ipython3",
   "version": "3.9.10"
  },
  "orig_nbformat": 4
 },
 "nbformat": 4,
 "nbformat_minor": 2
}
