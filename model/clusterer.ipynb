{
 "cells": [
  {
   "cell_type": "code",
   "execution_count": 1,
   "metadata": {},
   "outputs": [],
   "source": [
    "#This is the notebook to set and train the clusterer\n",
    "#Save in:\n",
    "PATH_TO_CLUSTERER = ''"
   ]
  },
  {
   "cell_type": "code",
   "execution_count": 2,
   "metadata": {},
   "outputs": [],
   "source": [
    "import sys\n",
    "sys.path.insert(0,\"/Users/augustecousin/Documents/bel_gm_tool/gm_tool/\")"
   ]
  },
  {
   "cell_type": "code",
   "execution_count": 3,
   "metadata": {},
   "outputs": [
    {
     "data": {
      "text/plain": [
       "['/Users/augustecousin/Documents/bel_gm_tool/gm_tool/',\n",
       " '/Users/augustecousin/Documents/bel_gm_tool/gm_tool/model',\n",
       " '/Users/augustecousin/Library/CloudStorage/OneDrive-SharedLibraries-Pivot&Co/Bel 2022 - 1. Growth Modelling/2. Design (Tool)/_Auguste',\n",
       " '/opt/homebrew/Cellar/python@3.9/3.9.10/Frameworks/Python.framework/Versions/3.9/lib/python39.zip',\n",
       " '/opt/homebrew/Cellar/python@3.9/3.9.10/Frameworks/Python.framework/Versions/3.9/lib/python3.9',\n",
       " '/opt/homebrew/Cellar/python@3.9/3.9.10/Frameworks/Python.framework/Versions/3.9/lib/python3.9/lib-dynload',\n",
       " '',\n",
       " '/Users/augustecousin/Documents/envs/env/lib/python3.9/site-packages']"
      ]
     },
     "execution_count": 3,
     "metadata": {},
     "output_type": "execute_result"
    }
   ],
   "source": [
    "sys.path"
   ]
  },
  {
   "cell_type": "code",
   "execution_count": 4,
   "metadata": {},
   "outputs": [],
   "source": [
    "from datamanager.DM_Belgique import DM_Belgique"
   ]
  },
  {
   "cell_type": "code",
   "execution_count": 30,
   "metadata": {},
   "outputs": [],
   "source": [
    "import pandas as pd\n",
    "import numpy as np\n",
    "import time\n",
    "from kmodes.kprototypes import KPrototypes\n",
    "import matplotlib.pyplot as plt\n",
    "import pickle"
   ]
  },
  {
   "cell_type": "code",
   "execution_count": 5,
   "metadata": {},
   "outputs": [],
   "source": [
    "data_manager = DM_Belgique()\n",
    "path = '../../../../Pivot & Co/Bel 2022 - 1. Growth Modelling/2. Design (Tool)/_Raoul/220207_Belgium_Dataset.csv'\n",
    "data_manager.open_excel(path)"
   ]
  },
  {
   "cell_type": "code",
   "execution_count": 6,
   "metadata": {},
   "outputs": [
    {
     "data": {
      "text/html": [
       "<div>\n",
       "<style scoped>\n",
       "    .dataframe tbody tr th:only-of-type {\n",
       "        vertical-align: middle;\n",
       "    }\n",
       "\n",
       "    .dataframe tbody tr th {\n",
       "        vertical-align: top;\n",
       "    }\n",
       "\n",
       "    .dataframe thead th {\n",
       "        text-align: right;\n",
       "    }\n",
       "</style>\n",
       "<table border=\"1\" class=\"dataframe\">\n",
       "  <thead>\n",
       "    <tr style=\"text-align: right;\">\n",
       "      <th></th>\n",
       "      <th>Date</th>\n",
       "      <th>Period</th>\n",
       "      <th>Week of year</th>\n",
       "      <th>Is month end</th>\n",
       "      <th>Is month start</th>\n",
       "      <th>Category</th>\n",
       "      <th>Sub Category</th>\n",
       "      <th>Brand</th>\n",
       "      <th>ACV</th>\n",
       "      <th>Price per volume</th>\n",
       "      <th>Price without promo</th>\n",
       "      <th>Sales in volume</th>\n",
       "      <th>Number of Categories</th>\n",
       "      <th>Number of Sub Categories</th>\n",
       "    </tr>\n",
       "  </thead>\n",
       "  <tbody>\n",
       "    <tr>\n",
       "      <th>0</th>\n",
       "      <td>2018-04-29</td>\n",
       "      <td>1</td>\n",
       "      <td>17</td>\n",
       "      <td>0</td>\n",
       "      <td>0</td>\n",
       "      <td>AIDE CULINAIRE</td>\n",
       "      <td>MASCARPONE/RICOTTA</td>\n",
       "      <td>CASARELLI</td>\n",
       "      <td>15.0</td>\n",
       "      <td>445.004850</td>\n",
       "      <td>460.132782</td>\n",
       "      <td>1.3403</td>\n",
       "      <td>1</td>\n",
       "      <td>1</td>\n",
       "    </tr>\n",
       "    <tr>\n",
       "      <th>1</th>\n",
       "      <td>2018-05-27</td>\n",
       "      <td>2</td>\n",
       "      <td>21</td>\n",
       "      <td>0</td>\n",
       "      <td>0</td>\n",
       "      <td>AIDE CULINAIRE</td>\n",
       "      <td>MASCARPONE/RICOTTA</td>\n",
       "      <td>CASARELLI</td>\n",
       "      <td>4.0</td>\n",
       "      <td>434.458058</td>\n",
       "      <td>435.385785</td>\n",
       "      <td>0.5305</td>\n",
       "      <td>1</td>\n",
       "      <td>1</td>\n",
       "    </tr>\n",
       "    <tr>\n",
       "      <th>2</th>\n",
       "      <td>2018-06-24</td>\n",
       "      <td>3</td>\n",
       "      <td>25</td>\n",
       "      <td>0</td>\n",
       "      <td>0</td>\n",
       "      <td>AIDE CULINAIRE</td>\n",
       "      <td>MASCARPONE/RICOTTA</td>\n",
       "      <td>CASARELLI</td>\n",
       "      <td>2.0</td>\n",
       "      <td>386.466165</td>\n",
       "      <td>387.121212</td>\n",
       "      <td>0.0133</td>\n",
       "      <td>1</td>\n",
       "      <td>1</td>\n",
       "    </tr>\n",
       "    <tr>\n",
       "      <th>3</th>\n",
       "      <td>2018-07-22</td>\n",
       "      <td>4</td>\n",
       "      <td>29</td>\n",
       "      <td>0</td>\n",
       "      <td>0</td>\n",
       "      <td>AIDE CULINAIRE</td>\n",
       "      <td>MASCARPONE/RICOTTA</td>\n",
       "      <td>CASARELLI</td>\n",
       "      <td>0.0</td>\n",
       "      <td>375.000000</td>\n",
       "      <td>375.000000</td>\n",
       "      <td>0.0008</td>\n",
       "      <td>1</td>\n",
       "      <td>1</td>\n",
       "    </tr>\n",
       "    <tr>\n",
       "      <th>4</th>\n",
       "      <td>2018-08-19</td>\n",
       "      <td>5</td>\n",
       "      <td>33</td>\n",
       "      <td>0</td>\n",
       "      <td>0</td>\n",
       "      <td>AIDE CULINAIRE</td>\n",
       "      <td>MASCARPONE/RICOTTA</td>\n",
       "      <td>CASARELLI</td>\n",
       "      <td>0.0</td>\n",
       "      <td>333.333333</td>\n",
       "      <td>333.333333</td>\n",
       "      <td>0.0003</td>\n",
       "      <td>1</td>\n",
       "      <td>1</td>\n",
       "    </tr>\n",
       "    <tr>\n",
       "      <th>...</th>\n",
       "      <td>...</td>\n",
       "      <td>...</td>\n",
       "      <td>...</td>\n",
       "      <td>...</td>\n",
       "      <td>...</td>\n",
       "      <td>...</td>\n",
       "      <td>...</td>\n",
       "      <td>...</td>\n",
       "      <td>...</td>\n",
       "      <td>...</td>\n",
       "      <td>...</td>\n",
       "      <td>...</td>\n",
       "      <td>...</td>\n",
       "      <td>...</td>\n",
       "    </tr>\n",
       "    <tr>\n",
       "      <th>17155</th>\n",
       "      <td>2021-01-03</td>\n",
       "      <td>36</td>\n",
       "      <td>53</td>\n",
       "      <td>0</td>\n",
       "      <td>0</td>\n",
       "      <td>TARTINES A POSER</td>\n",
       "      <td>ZZ AUTRES</td>\n",
       "      <td>SAINT ALBRAY</td>\n",
       "      <td>0.0</td>\n",
       "      <td>0.000000</td>\n",
       "      <td>0.000000</td>\n",
       "      <td>0.0000</td>\n",
       "      <td>2</td>\n",
       "      <td>1</td>\n",
       "    </tr>\n",
       "    <tr>\n",
       "      <th>17156</th>\n",
       "      <td>2021-01-31</td>\n",
       "      <td>37</td>\n",
       "      <td>4</td>\n",
       "      <td>1</td>\n",
       "      <td>0</td>\n",
       "      <td>TARTINES A POSER</td>\n",
       "      <td>ZZ AUTRES</td>\n",
       "      <td>SAINT ALBRAY</td>\n",
       "      <td>0.0</td>\n",
       "      <td>0.000000</td>\n",
       "      <td>0.000000</td>\n",
       "      <td>0.0000</td>\n",
       "      <td>2</td>\n",
       "      <td>1</td>\n",
       "    </tr>\n",
       "    <tr>\n",
       "      <th>17157</th>\n",
       "      <td>2021-02-28</td>\n",
       "      <td>38</td>\n",
       "      <td>8</td>\n",
       "      <td>1</td>\n",
       "      <td>0</td>\n",
       "      <td>TARTINES A POSER</td>\n",
       "      <td>ZZ AUTRES</td>\n",
       "      <td>SAINT ALBRAY</td>\n",
       "      <td>0.0</td>\n",
       "      <td>0.000000</td>\n",
       "      <td>0.000000</td>\n",
       "      <td>0.0000</td>\n",
       "      <td>2</td>\n",
       "      <td>1</td>\n",
       "    </tr>\n",
       "    <tr>\n",
       "      <th>17158</th>\n",
       "      <td>2021-03-28</td>\n",
       "      <td>39</td>\n",
       "      <td>12</td>\n",
       "      <td>0</td>\n",
       "      <td>0</td>\n",
       "      <td>TARTINES A POSER</td>\n",
       "      <td>ZZ AUTRES</td>\n",
       "      <td>SAINT ALBRAY</td>\n",
       "      <td>0.0</td>\n",
       "      <td>0.000000</td>\n",
       "      <td>0.000000</td>\n",
       "      <td>0.0000</td>\n",
       "      <td>2</td>\n",
       "      <td>1</td>\n",
       "    </tr>\n",
       "    <tr>\n",
       "      <th>17159</th>\n",
       "      <td>2021-04-25</td>\n",
       "      <td>40</td>\n",
       "      <td>16</td>\n",
       "      <td>0</td>\n",
       "      <td>0</td>\n",
       "      <td>TARTINES A POSER</td>\n",
       "      <td>ZZ AUTRES</td>\n",
       "      <td>SAINT ALBRAY</td>\n",
       "      <td>0.0</td>\n",
       "      <td>0.000000</td>\n",
       "      <td>0.000000</td>\n",
       "      <td>0.0000</td>\n",
       "      <td>2</td>\n",
       "      <td>1</td>\n",
       "    </tr>\n",
       "  </tbody>\n",
       "</table>\n",
       "<p>17160 rows × 14 columns</p>\n",
       "</div>"
      ],
      "text/plain": [
       "             Date  Period  Week of year  Is month end  Is month start  \\\n",
       "0      2018-04-29       1            17             0               0   \n",
       "1      2018-05-27       2            21             0               0   \n",
       "2      2018-06-24       3            25             0               0   \n",
       "3      2018-07-22       4            29             0               0   \n",
       "4      2018-08-19       5            33             0               0   \n",
       "...           ...     ...           ...           ...             ...   \n",
       "17155  2021-01-03      36            53             0               0   \n",
       "17156  2021-01-31      37             4             1               0   \n",
       "17157  2021-02-28      38             8             1               0   \n",
       "17158  2021-03-28      39            12             0               0   \n",
       "17159  2021-04-25      40            16             0               0   \n",
       "\n",
       "               Category        Sub Category         Brand   ACV  \\\n",
       "0        AIDE CULINAIRE  MASCARPONE/RICOTTA     CASARELLI  15.0   \n",
       "1        AIDE CULINAIRE  MASCARPONE/RICOTTA     CASARELLI   4.0   \n",
       "2        AIDE CULINAIRE  MASCARPONE/RICOTTA     CASARELLI   2.0   \n",
       "3        AIDE CULINAIRE  MASCARPONE/RICOTTA     CASARELLI   0.0   \n",
       "4        AIDE CULINAIRE  MASCARPONE/RICOTTA     CASARELLI   0.0   \n",
       "...                 ...                 ...           ...   ...   \n",
       "17155  TARTINES A POSER           ZZ AUTRES  SAINT ALBRAY   0.0   \n",
       "17156  TARTINES A POSER           ZZ AUTRES  SAINT ALBRAY   0.0   \n",
       "17157  TARTINES A POSER           ZZ AUTRES  SAINT ALBRAY   0.0   \n",
       "17158  TARTINES A POSER           ZZ AUTRES  SAINT ALBRAY   0.0   \n",
       "17159  TARTINES A POSER           ZZ AUTRES  SAINT ALBRAY   0.0   \n",
       "\n",
       "       Price per volume  Price without promo  Sales in volume  \\\n",
       "0            445.004850           460.132782           1.3403   \n",
       "1            434.458058           435.385785           0.5305   \n",
       "2            386.466165           387.121212           0.0133   \n",
       "3            375.000000           375.000000           0.0008   \n",
       "4            333.333333           333.333333           0.0003   \n",
       "...                 ...                  ...              ...   \n",
       "17155          0.000000             0.000000           0.0000   \n",
       "17156          0.000000             0.000000           0.0000   \n",
       "17157          0.000000             0.000000           0.0000   \n",
       "17158          0.000000             0.000000           0.0000   \n",
       "17159          0.000000             0.000000           0.0000   \n",
       "\n",
       "       Number of Categories  Number of Sub Categories  \n",
       "0                         1                         1  \n",
       "1                         1                         1  \n",
       "2                         1                         1  \n",
       "3                         1                         1  \n",
       "4                         1                         1  \n",
       "...                     ...                       ...  \n",
       "17155                     2                         1  \n",
       "17156                     2                         1  \n",
       "17157                     2                         1  \n",
       "17158                     2                         1  \n",
       "17159                     2                         1  \n",
       "\n",
       "[17160 rows x 14 columns]"
      ]
     },
     "execution_count": 6,
     "metadata": {},
     "output_type": "execute_result"
    }
   ],
   "source": [
    "data_manager.df"
   ]
  },
  {
   "cell_type": "code",
   "execution_count": 7,
   "metadata": {},
   "outputs": [],
   "source": [
    "df_kproto = data_manager.df[[\"Period\", \"Category\", \"Sub Category\", \"Brand\", \"ACV\", \"Price per volume\",\n",
    "                       \"Number of Categories\", \"Number of Sub Categories\", \"Sales in volume\"]]"
   ]
  },
  {
   "cell_type": "code",
   "execution_count": 12,
   "metadata": {},
   "outputs": [],
   "source": [
    "\"\"\" remove brand histories with more than 3 0.0 in their ACV \"\"\"\n",
    "l_to_remove=[]\n",
    "count=0\n",
    "for filters, group in df_kproto.groupby(['Category', 'Sub Category', 'Brand']):\n",
    "    if np.count_nonzero(group['ACV']) < (40-3):\n",
    "        l_to_remove.append(group.index.values)\n",
    "l_to_remove = np.array(l_to_remove).flatten()\n",
    "\n",
    "df_kproto=df_kproto[~df_kproto.index.isin(l_to_remove)].reset_index(drop=True)"
   ]
  },
  {
   "cell_type": "code",
   "execution_count": 14,
   "metadata": {},
   "outputs": [],
   "source": [
    "\"\"\"Transpose Sales history to columns\"\"\"\n",
    "CatMerge = df_kproto.groupby([\"Category\", \"Sub Category\", \"Brand\"], dropna=False)[\"Number of Categories\"].mean().reset_index()\n",
    "SubCatMerge = df_kproto.groupby([\"Category\", \"Sub Category\", \"Brand\"], dropna=False)[\"Number of Sub Categories\"].mean().reset_index()\n",
    "\n",
    "column_name = [\"Category\", \"Sub Category\", \"Brand\"] + [\"ACV \" + str(x) for x in range(0, 40)]\n",
    "df_1 = pd.DataFrame(columns=column_name)\n",
    "for key, item in df_kproto.groupby([\"Category\", \"Sub Category\", \"Brand\"], dropna=False)[\"ACV\"]:\n",
    "    df_1_temp = pd.DataFrame([k for k in key] + item.tolist()).T\n",
    "    df_1_temp.columns = column_name\n",
    "    df_1 = pd.concat([df_1, df_1_temp])\n",
    "\n",
    "column_name = [\"Category\", \"Sub Category\", \"Brand\"] + [\"Price per volume \" + str(x) for x in range(0, 40)]\n",
    "df_2 = pd.DataFrame(columns=column_name)\n",
    "for key, item in df_kproto.groupby([\"Category\", \"Sub Category\", \"Brand\"], dropna=False)[\"Price per volume\"]:\n",
    "    df_2_temp = pd.DataFrame([k for k in key] + item.tolist()).T\n",
    "    df_2_temp.columns = column_name\n",
    "    df_2 = pd.concat([df_2, df_2_temp])"
   ]
  },
  {
   "cell_type": "code",
   "execution_count": 15,
   "metadata": {},
   "outputs": [],
   "source": [
    "df_kproto_final = df_1.merge(df_2, on=[\"Category\", \"Sub Category\", \"Brand\"], \n",
    "                               how=\"inner\").merge(CatMerge, on=[\"Category\", \"Sub Category\", \"Brand\"], \n",
    "                                                  how=\"inner\").merge(SubCatMerge, on=[\"Category\", \"Sub Category\", \"Brand\"], how=\"inner\")"
   ]
  },
  {
   "cell_type": "code",
   "execution_count": 17,
   "metadata": {},
   "outputs": [],
   "source": [
    "for column in [\"ACV \" + str(x) for x in range(0, 40)] + [\"Price per volume \" + str(x) for x in range(0, 40)]:\n",
    "    df_kproto_final[column] = df_kproto_final[column].astype(float)\n",
    "    df_kproto_final[column] = df_kproto_final[column].apply(np.log1p)"
   ]
  },
  {
   "cell_type": "code",
   "execution_count": 18,
   "metadata": {},
   "outputs": [],
   "source": [
    "\"\"\"add high level features to describe the time series\"\"\"\n",
    "acv_cols = [x for x in df_kproto_final.columns if 'ACV' in x]\n",
    "price_cols = [x for x in df_kproto_final.columns if 'Price' in x]\n",
    "\n",
    "df_kproto_final['MIN ACV'] = df_kproto_final[acv_cols].min(axis=1)\n",
    "df_kproto_final['MAX ACV'] = df_kproto_final[acv_cols].max(axis=1)\n",
    "df_kproto_final['MEAN ACV'] = df_kproto_final[acv_cols].mean(axis=1)\n",
    "df_kproto_final['STD ACV'] = df_kproto_final[acv_cols].std(axis=1)\n",
    "\n",
    "df_kproto_final['MIN PRICE'] = df_kproto_final[price_cols].min(axis=1)\n",
    "df_kproto_final['MAX PRICE'] = df_kproto_final[price_cols].max(axis=1)\n",
    "df_kproto_final['MEAN PRICE'] = df_kproto_final[price_cols].mean(axis=1)\n",
    "df_kproto_final['STD PRICE'] = df_kproto_final[price_cols].std(axis=1)"
   ]
  },
  {
   "cell_type": "code",
   "execution_count": 20,
   "metadata": {},
   "outputs": [],
   "source": [
    "df_kproto_final = df_kproto_final[['Category', 'Sub Category', 'Brand', 'Number of Sub Categories', 'MIN ACV', 'MAX ACV', 'MEAN ACV', 'STD ACV', 'MIN PRICE', 'MAX PRICE', 'MEAN PRICE', 'STD PRICE']]\n"
   ]
  },
  {
   "cell_type": "code",
   "execution_count": 24,
   "metadata": {},
   "outputs": [
    {
     "name": "stdout",
     "output_type": "stream",
     "text": [
      "Number of clusters: 2  | Runtime (s): 0.08  | Cost: 1569.95\n",
      "Number of clusters: 3  | Runtime (s): 0.07  | Cost: 1426.02\n",
      "Number of clusters: 4  | Runtime (s): 0.06  | Cost: 1293.8\n",
      "Number of clusters: 5  | Runtime (s): 0.07  | Cost: 1230.64\n",
      "Number of clusters: 6  | Runtime (s): 0.09  | Cost: 1162.72\n",
      "Number of clusters: 7  | Runtime (s): 0.06  | Cost: 1148.66\n",
      "Number of clusters: 8  | Runtime (s): 0.08  | Cost: 1104.48\n",
      "Number of clusters: 9  | Runtime (s): 0.11  | Cost: 1053.31\n",
      "Number of clusters: 10  | Runtime (s): 0.16  | Cost: 1070.92\n",
      "Number of clusters: 11  | Runtime (s): 0.15  | Cost: 998.4\n",
      "Number of clusters: 12  | Runtime (s): 0.1  | Cost: 990.53\n",
      "Number of clusters: 13  | Runtime (s): 0.16  | Cost: 945.47\n",
      "Number of clusters: 14  | Runtime (s): 0.18  | Cost: 939.06\n",
      "Number of clusters: 15  | Runtime (s): 0.23  | Cost: 926.3\n"
     ]
    }
   ],
   "source": [
    "\"\"\"elbow method for number of clusters\"\"\"\n",
    "cost = []\n",
    "K = range(2, 16)\n",
    "for num_clusters in list(K):\n",
    "    start = time.time()\n",
    "    model = KPrototypes(n_clusters=num_clusters, init=\"Cao\", n_init=1, max_iter=50, random_state=0)\n",
    "    model.fit_predict(df_kproto_final.values, \n",
    "                      categorical=[df_kproto_final.columns.get_loc(column) for column in [\"Category\", \"Sub Category\", \"Brand\"]])\n",
    "    end = time.time()\n",
    "    cost.append(model.cost_)\n",
    "    print(\"Number of clusters:\", num_clusters, \" | Runtime (s):\", round(end-start, 2), \" | Cost:\", round(model.cost_, 2))"
   ]
  },
  {
   "cell_type": "code",
   "execution_count": 27,
   "metadata": {},
   "outputs": [
    {
     "data": {
      "image/png": "[encoded data removed]",
      "text/plain": [
       "<Figure size 720x432 with 1 Axes>"
      ]
     },
     "metadata": {
      "needs_background": "light"
     },
     "output_type": "display_data"
    }
   ],
   "source": [
    "plt.rcParams[\"figure.figsize\"] = [10, 6]\n",
    "plt.rcParams.update({'font.size': 14})\n",
    "plt.scatter(x=K, y=cost,\n",
    "            marker=\"s\", s=100, color=\"red\")\n",
    "plt.xlabel(\"Number of clusters\", fontsize=18)\n",
    "plt.ylabel(\"Cost\", fontsize=18)\n",
    "plt.xticks(range(1, 17, 1))\n",
    "plt.grid()\n",
    "plt.show()"
   ]
  },
  {
   "cell_type": "code",
   "execution_count": 36,
   "metadata": {},
   "outputs": [
    {
     "data": {
      "text/plain": [
       "KPrototypes(gamma=1.432940496946121, max_iter=50, n_clusters=5, random_state=0)"
      ]
     },
     "execution_count": 36,
     "metadata": {},
     "output_type": "execute_result"
    }
   ],
   "source": [
    "\"\"\"create and train clustering algorithm with n clusters\"\"\"\n",
    "n_clusters=5\n",
    "model = KPrototypes(n_clusters=n_clusters, init=\"Cao\", max_iter=50, random_state=0)\n",
    "model.fit(df_kproto_final.values, \n",
    "          categorical=[df_kproto_final.columns.get_loc(column) for column in [\"Category\", \"Sub Category\", \"Brand\"]])"
   ]
  },
  {
   "cell_type": "code",
   "execution_count": 37,
   "metadata": {},
   "outputs": [
    {
     "data": {
      "text/plain": [
       "'save model as clusterer_Belgium.sav'"
      ]
     },
     "execution_count": 37,
     "metadata": {},
     "output_type": "execute_result"
    }
   ],
   "source": [
    "\"\"\"save model as clusterer_Belgium.sav\"\"\"\n",
    "#pickle.dump(model, open(PATH_TO_CLUSTERER + 'clusterer_Belgium.sav', 'wb'))"
   ]
  },
  {
   "cell_type": "code",
   "execution_count": 39,
   "metadata": {},
   "outputs": [
    {
     "name": "stderr",
     "output_type": "stream",
     "text": [
      "/var/folders/3n/8sjtl4yd5k518vq7tdlbr_nm0000gn/T/ipykernel_22587/2530360184.py:2: SettingWithCopyWarning: \n",
      "A value is trying to be set on a copy of a slice from a DataFrame.\n",
      "Try using .loc[row_indexer,col_indexer] = value instead\n",
      "\n",
      "See the caveats in the documentation: https://pandas.pydata.org/pandas-docs/stable/user_guide/indexing.html#returning-a-view-versus-a-copy\n",
      "  df_kproto_final[\"Cluster\"] = model.labels_\n",
      "/var/folders/3n/8sjtl4yd5k518vq7tdlbr_nm0000gn/T/ipykernel_22587/2530360184.py:7: UserWarning: Boolean Series key will be reindexed to match DataFrame index.\n",
      "  sales = df_kproto[df_kproto['Category']==row['Category']]\\\n"
     ]
    }
   ],
   "source": [
    "\"\"\"store clusters and profiles\"\"\"\n",
    "df_kproto_final[\"Cluster\"] = model.labels_\n",
    "\n",
    "dict_clusters_sales = dict()\n",
    "dict_all_sales = {x:{} for x in range(n_clusters)}\n",
    "for index, row in df_kproto_final.iterrows():\n",
    "    sales = df_kproto[df_kproto['Category']==row['Category']]\\\n",
    "                     [df_kproto['Sub Category']==row['Sub Category']]\\\n",
    "                     [df_kproto['Brand']==row['Brand']][\"Sales in volume\"].values\n",
    "    \n",
    "    \n",
    "    dict_all_sales[row[\"Cluster\"]][row[\"Brand\"]+row[\"Category\"]+row[\"Sub Category\"]] = sales\n",
    "    \n",
    "    \n",
    "    if row[\"Cluster\"] not in dict_clusters_sales:\n",
    "        dict_clusters_sales[row[\"Cluster\"]] = sales\n",
    "    else:\n",
    "        dict_clusters_sales[row[\"Cluster\"]] += sales\n",
    "    \n",
    "for i in range(0, n_clusters):\n",
    "    dict_clusters_sales[i] = dict_clusters_sales[i] / df_kproto_final[\"Cluster\"].value_counts().sort_index().values[i]"
   ]
  },
  {
   "cell_type": "code",
   "execution_count": 48,
   "metadata": {},
   "outputs": [],
   "source": [
    "\"\"\"save clusters and profiles\"\"\"\n",
    "profiles = pd.DataFrame(dict_clusters_sales)\n",
    "#profiles.to_csv('profiles_Belgium.csv', index=False)\n",
    "\n",
    "clusters = df_kproto_final[['Category', 'Sub Category', 'Brand', 'Cluster']]\n",
    "#clusters.to_csv('profiles_Belgium.csv', index=False)"
   ]
  },
  {
   "cell_type": "code",
   "execution_count": null,
   "metadata": {},
   "outputs": [],
   "source": []
  },
  {
   "cell_type": "code",
   "execution_count": null,
   "metadata": {},
   "outputs": [],
   "source": []
  },
  {
   "cell_type": "code",
   "execution_count": null,
   "metadata": {},
   "outputs": [],
   "source": [
    "\n",
    "    "
   ]
  },
  {
   "cell_type": "code",
   "execution_count": null,
   "metadata": {},
   "outputs": [],
   "source": []
  }
 ],
 "metadata": {
  "interpreter": {
   "hash": "31f2aee4e71d21fbe5cf8b01ff0e069b9275f58929596ceb00d14d90e3e16cd6"
  },
  "kernelspec": {
   "display_name": "gm_tool",
   "language": "python",
   "name": "gm_tool"
  },
  "language_info": {
   "codemirror_mode": {
    "name": "ipython",
    "version": 3
   },
   "file_extension": ".py",
   "mimetype": "text/x-python",
   "name": "python",
   "nbconvert_exporter": "python",
   "pygments_lexer": "ipython3",
   "version": "3.9.10"
  },
  "orig_nbformat": 4
 },
 "nbformat": 4,
 "nbformat_minor": 2
}
