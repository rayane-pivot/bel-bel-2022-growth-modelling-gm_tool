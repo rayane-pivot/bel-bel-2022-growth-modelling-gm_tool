{
 "cells": [
  {
   "cell_type": "code",
   "execution_count": 1,
   "metadata": {},
   "outputs": [],
   "source": [
    "#This is the notebook to set and train the clusterer\n",
    "\n",
    "PATH_TO_CLUSTERS = '/Users/augustecousin/Documents/bel_gm_tool/gm_tool/assets/clusters_Belgium.csv'\n",
    "PATH_OUT = '/Users/augustecousin/Documents/bel_gm_tool/gm_tool/assets/'"
   ]
  },
  {
   "cell_type": "code",
   "execution_count": 2,
   "metadata": {},
   "outputs": [],
   "source": [
    "import sys\n",
    "sys.path.insert(0,\"/Users/augustecousin/Documents/bel_gm_tool/gm_tool/\")"
   ]
  },
  {
   "cell_type": "code",
   "execution_count": 3,
   "metadata": {},
   "outputs": [],
   "source": [
    "import pandas as pd\n",
    "import numpy as np\n",
    "import pickle\n",
    "from sklearn.ensemble import RandomForestClassifier\n",
    "from sklearn.model_selection import train_test_split\n",
    "from sklearn.metrics import confusion_matrix,ConfusionMatrixDisplay\n",
    "\n",
    "from datamanager.DM_Belgique import DM_Belgique"
   ]
  },
  {
   "cell_type": "code",
   "execution_count": 4,
   "metadata": {},
   "outputs": [],
   "source": [
    "\"\"\"load data from csv into DataManager\"\"\"\n",
    "path = '../../../../Pivot & Co/Bel 2022 - 1. Growth Modelling/2. Design (Tool)/_Raoul/220207_Belgium_Dataset.csv'\n",
    "data_manager = DM_Belgique()\n",
    "data_manager.open_excel(path)\n",
    "data_manager.df.rename(columns={'ACV': 'Distribution'}, inplace=True)\n",
    "#SHAPE (17160, 14)"
   ]
  },
  {
   "cell_type": "code",
   "execution_count": 5,
   "metadata": {},
   "outputs": [],
   "source": [
    "\"\"\"load clusters_Belgium.csv\"\"\"\n",
    "clusters = pd.read_csv(PATH_TO_CLUSTERS)\n",
    "#SHAPE (234, 4)"
   ]
  },
  {
   "cell_type": "code",
   "execution_count": 6,
   "metadata": {},
   "outputs": [],
   "source": [
    "\"\"\"merge clusters into dataset, (reduce dataset to [Category, Brand, Sub Category] that are in clusters)\"\"\"\n",
    "df_merged = pd.merge(clusters, data_manager.df, on=['Category', 'Brand', 'Sub Category'])\n",
    "#SHAPE (9360, 15)"
   ]
  },
  {
   "cell_type": "code",
   "execution_count": 7,
   "metadata": {},
   "outputs": [],
   "source": [
    "\"\"\"log Distribution and Price\"\"\"\n",
    "df_merged['Distribution'] = df_merged['Distribution'].apply(np.log1p)\n",
    "df_merged['Price per volume'] = df_merged['Price per volume'].apply(np.log1p)"
   ]
  },
  {
   "cell_type": "code",
   "execution_count": 8,
   "metadata": {},
   "outputs": [
    {
     "name": "stderr",
     "output_type": "stream",
     "text": [
      "/var/folders/3n/8sjtl4yd5k518vq7tdlbr_nm0000gn/T/ipykernel_30808/3177445698.py:2: FutureWarning: Indexing with multiple keys (implicitly converted to a tuple of keys) will be deprecated, use a list instead.\n",
      "  df_sub = df_merged.groupby(['Category', 'Sub Category', 'Brand'], as_index=False)['Cluster', 'Number of Categories', 'Number of Sub Categories'].max()\n"
     ]
    }
   ],
   "source": [
    "\"\"\"sub dataframe as groupby [Category, Sub Category, Brand]\"\"\"\n",
    "df_sub = df_merged.groupby(['Category', 'Sub Category', 'Brand'], as_index=False)['Cluster', 'Number of Categories', 'Number of Sub Categories'].max()\n",
    "#SHAPE (234, 6)"
   ]
  },
  {
   "cell_type": "code",
   "execution_count": 9,
   "metadata": {},
   "outputs": [],
   "source": [
    "\"\"\"compute high level metrics for time series of Distribution and Price per volume : min, max, mean, std\"\"\"\n",
    "Distribution = df_merged.groupby(['Category', 'Sub Category', 'Brand'], as_index=False)['Distribution'].agg(\n",
    "    {'min Distribution':'min', 'max Distribution':'max', 'mean Distribution':'mean', 'std Distribution':'std'}\n",
    ")\n",
    "\n",
    "\n",
    "Price = df_merged.groupby(['Category', 'Sub Category', 'Brand'], as_index=False)['Price per volume'].agg(\n",
    "    {'min Price':'min', 'max Price':'max', 'mean Price':'mean', 'std Price':'std'}\n",
    ")"
   ]
  },
  {
   "cell_type": "code",
   "execution_count": 10,
   "metadata": {},
   "outputs": [],
   "source": [
    "\"\"\"merge high level metrics into df_sub\"\"\"\n",
    "df_sub = pd.merge(df_sub, Distribution, on=['Category', 'Sub Category', 'Brand'])\n",
    "\n",
    "df_sub = pd.merge(df_sub, Price, on=['Category', 'Sub Category', 'Brand'])\n",
    "#SHAPE (234, 14)"
   ]
  },
  {
   "cell_type": "code",
   "execution_count": 11,
   "metadata": {},
   "outputs": [
    {
     "data": {
      "text/plain": [
       "RandomForestClassifier(max_depth=6, random_state=0)"
      ]
     },
     "execution_count": 11,
     "metadata": {},
     "output_type": "execute_result"
    }
   ],
   "source": [
    "\"\"\"train RandomForestClassifier to classify [Category, Sub Category, Brand] in the correct clusters\"\"\"\n",
    "clf = RandomForestClassifier(max_depth=6, random_state=0)\n",
    "\n",
    "X = df_sub.loc[:, ~df_sub.columns.isin(['Brand', 'Category', 'Sub Category', 'Cluster'])].astype(float)\n",
    "y = df_sub['Cluster'].astype(float)\n",
    "\n",
    "X_train, X_test, y_train, y_test = train_test_split(X, y, test_size=0.33, random_state=42)\n",
    "\n",
    "clf.fit(X_train, y_train)\n"
   ]
  },
  {
   "cell_type": "code",
   "execution_count": 12,
   "metadata": {},
   "outputs": [
    {
     "data": {
      "text/plain": [
       "'save model'"
      ]
     },
     "execution_count": 12,
     "metadata": {},
     "output_type": "execute_result"
    }
   ],
   "source": [
    "\"\"\"save model\"\"\"\n",
    "#pickle.dump(clf, open(PATH_OUT+'classifier_Belgium.sav', 'wb'))"
   ]
  },
  {
   "cell_type": "code",
   "execution_count": 13,
   "metadata": {},
   "outputs": [
    {
     "data": {
      "text/plain": [
       "<sklearn.metrics._plot.confusion_matrix.ConfusionMatrixDisplay at 0x1103b2d30>"
      ]
     },
     "execution_count": 13,
     "metadata": {},
     "output_type": "execute_result"
    },
    {
     "data": {
      "image/png": "[encoded data removed]",
      "text/plain": [
       "<Figure size 432x288 with 2 Axes>"
      ]
     },
     "metadata": {
      "needs_background": "light"
     },
     "output_type": "display_data"
    }
   ],
   "source": [
    "\"\"\"Confusion matrix to evaluate the classifier\"\"\"\n",
    "y_pred=clf.predict(X_test)\n",
    "cm = confusion_matrix(y_test, y_pred, labels=clf.classes_)\n",
    "disp = ConfusionMatrixDisplay(confusion_matrix=cm, display_labels=clf.classes_)\n",
    "disp.plot()"
   ]
  },
  {
   "cell_type": "code",
   "execution_count": null,
   "metadata": {},
   "outputs": [],
   "source": []
  },
  {
   "cell_type": "code",
   "execution_count": null,
   "metadata": {},
   "outputs": [],
   "source": []
  },
  {
   "cell_type": "code",
   "execution_count": null,
   "metadata": {},
   "outputs": [],
   "source": []
  }
 ],
 "metadata": {
  "kernelspec": {
   "display_name": "gm_tool",
   "language": "python",
   "name": "gm_tool"
  },
  "language_info": {
   "codemirror_mode": {
    "name": "ipython",
    "version": 3
   },
   "file_extension": ".py",
   "mimetype": "text/x-python",
   "name": "python",
   "nbconvert_exporter": "python",
   "pygments_lexer": "ipython3",
   "version": "3.9.10"
  },
  "orig_nbformat": 4
 },
 "nbformat": 4,
 "nbformat_minor": 2
}
