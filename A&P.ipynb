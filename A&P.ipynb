{
 "cells": [
  {
   "cell_type": "code",
   "execution_count": 25,
   "id": "a11947c6",
   "metadata": {},
   "outputs": [
    {
     "data": {
      "text/plain": [
       "'\\nA&P\\nFinance data SAP\\n\\nFiltrer Managerial EPM for USA\\nExtract brands from CODE EPM\\nADVERTISING from R4100\\nPROMO from R4200\\n\\n\\nIf faut columns pour:\\n\\tannée, mois, brand, A, P\\n\\nGroupby brand / sort by Date\\n'"
      ]
     },
     "execution_count": 25,
     "metadata": {},
     "output_type": "execute_result"
    }
   ],
   "source": [
    "\"\"\"\n",
    "A&P\n",
    "Finance data SAP\n",
    "\n",
    "Filtrer Managerial EPM for USA\n",
    "Extract brands from CODE EPM\n",
    "ADVERTISING from R4100\n",
    "PROMO from R4200\n",
    "\n",
    "\n",
    "If faut columns pour:\n",
    "\tannée, mois, brand, A, P\n",
    "\n",
    "Groupby brand / sort by Date\n",
    "\"\"\""
   ]
  },
  {
   "cell_type": "code",
   "execution_count": 94,
   "id": "f5290a7f",
   "metadata": {},
   "outputs": [],
   "source": [
    "import pandas as pd\n",
    "import numpy as np\n",
    "import matplotlib.pyplot as plt\n",
    "from calendar import Calendar"
   ]
  },
  {
   "cell_type": "code",
   "execution_count": 179,
   "id": "f412e00f",
   "metadata": {},
   "outputs": [],
   "source": [
    "df_AP = pd.read_excel('data/Growth Modelling - USA - 2018-2021 - Finance Data (SAP - Flux Rio).xlsx', header=17)"
   ]
  },
  {
   "cell_type": "code",
   "execution_count": 180,
   "id": "badaad32",
   "metadata": {},
   "outputs": [],
   "source": [
    "df_USA = df_AP[df_AP['MANAGERIAL EPM'] == 'USA']"
   ]
  },
  {
   "cell_type": "code",
   "execution_count": 181,
   "id": "ab9325be",
   "metadata": {
    "scrolled": false
   },
   "outputs": [],
   "source": [
    "#On vire Kiri pour les US , '000KE - KIRI'\n",
    "bel_brands = ['000BQ - BOURSIN', '000LA - THE LAUGHING COW', '000MB - MINI BABYBEL', '000KC - KAUKAUNA', \"000PG - PRICE'S\", '000MI - MERKTS', '003NH - NURISHH']\n",
    "df_bel_brands = df_USA[df_USA['CODE EPM'].isin(bel_brands)]"
   ]
  },
  {
   "cell_type": "code",
   "execution_count": 182,
   "id": "58e38f70",
   "metadata": {},
   "outputs": [],
   "source": [
    "df_final = df_bel_brands[['YEAR EPM', 'CODE EPM', 'R4100 - ADVERTISING', 'R4200 - PROMOTION - CONSUMERS']]"
   ]
  },
  {
   "cell_type": "code",
   "execution_count": 183,
   "id": "3324fb31",
   "metadata": {},
   "outputs": [],
   "source": [
    "df_final = df_final.rename(columns={'YEAR EPM':'Year', 'CODE EPM':'Brand', 'R4100 - ADVERTISING':'Advertising', 'R4200 - PROMOTION - CONSUMERS':'Promotion'})"
   ]
  },
  {
   "cell_type": "code",
   "execution_count": 184,
   "id": "4e711205",
   "metadata": {},
   "outputs": [],
   "source": [
    "df_final['Advertising'] = df_final['Advertising'].abs()\n",
    "df_final['Promotion'] = df_final['Promotion'].abs()"
   ]
  },
  {
   "cell_type": "code",
   "execution_count": 185,
   "id": "218219f2",
   "metadata": {},
   "outputs": [],
   "source": [
    "df_final['Brand'] = df_final['Brand'].apply(lambda x:x.split(sep='-')[-1].strip())"
   ]
  },
  {
   "cell_type": "code",
   "execution_count": 186,
   "id": "f10561e3",
   "metadata": {},
   "outputs": [],
   "source": [
    "df_final['Month'] = df_final['Year'].apply(lambda x:int(x[5:8]))"
   ]
  },
  {
   "cell_type": "code",
   "execution_count": 187,
   "id": "57ed1394",
   "metadata": {},
   "outputs": [],
   "source": [
    "df_final['Year'] = df_final['Year'].apply(lambda x:int(x[:4]))"
   ]
  },
  {
   "cell_type": "code",
   "execution_count": 188,
   "id": "bddf9e90",
   "metadata": {},
   "outputs": [],
   "source": [
    "df_final = df_final.fillna(0.0)"
   ]
  },
  {
   "cell_type": "code",
   "execution_count": 189,
   "id": "b5ecfee2",
   "metadata": {},
   "outputs": [],
   "source": [
    "def count_num_sundays_in_month(year, month):\n",
    "    day_to_count = calendar.SUNDAY\n",
    "    matrix = calendar.monthcalendar(year, month)\n",
    "    num_days = sum(1 for x in matrix if x[day_to_count] != 0)\n",
    "    return num_days"
   ]
  },
  {
   "cell_type": "code",
   "execution_count": 190,
   "id": "5538ecbb",
   "metadata": {},
   "outputs": [],
   "source": [
    "df_final['number of weeks'] = df_final.apply(lambda x:count_num_sundays_in_month(x.Year, x.Month), axis=1)"
   ]
  },
  {
   "cell_type": "code",
   "execution_count": 191,
   "id": "5c8dd9dd",
   "metadata": {},
   "outputs": [],
   "source": [
    "df_final['A&P'] = df_final.apply(lambda x: (x.Advertising + x.Promotion) / x['number of weeks'] * 1000, axis=1)"
   ]
  },
  {
   "cell_type": "code",
   "execution_count": 192,
   "id": "0cafca27",
   "metadata": {},
   "outputs": [
    {
     "data": {
      "text/html": [
       "<div>\n",
       "<style scoped>\n",
       "    .dataframe tbody tr th:only-of-type {\n",
       "        vertical-align: middle;\n",
       "    }\n",
       "\n",
       "    .dataframe tbody tr th {\n",
       "        vertical-align: top;\n",
       "    }\n",
       "\n",
       "    .dataframe thead th {\n",
       "        text-align: right;\n",
       "    }\n",
       "</style>\n",
       "<table border=\"1\" class=\"dataframe\">\n",
       "  <thead>\n",
       "    <tr style=\"text-align: right;\">\n",
       "      <th></th>\n",
       "      <th>Year</th>\n",
       "      <th>Brand</th>\n",
       "      <th>Advertising</th>\n",
       "      <th>Promotion</th>\n",
       "      <th>Month</th>\n",
       "      <th>number of weeks</th>\n",
       "      <th>A&amp;P</th>\n",
       "    </tr>\n",
       "  </thead>\n",
       "  <tbody>\n",
       "    <tr>\n",
       "      <th>818</th>\n",
       "      <td>2018</td>\n",
       "      <td>BOURSIN</td>\n",
       "      <td>80.337033</td>\n",
       "      <td>40.643074</td>\n",
       "      <td>1</td>\n",
       "      <td>4</td>\n",
       "      <td>30245.026650</td>\n",
       "    </tr>\n",
       "    <tr>\n",
       "      <th>824</th>\n",
       "      <td>2018</td>\n",
       "      <td>THE LAUGHING COW</td>\n",
       "      <td>602.204522</td>\n",
       "      <td>152.581049</td>\n",
       "      <td>1</td>\n",
       "      <td>4</td>\n",
       "      <td>188696.392850</td>\n",
       "    </tr>\n",
       "    <tr>\n",
       "      <th>829</th>\n",
       "      <td>2018</td>\n",
       "      <td>MINI BABYBEL</td>\n",
       "      <td>1538.474628</td>\n",
       "      <td>416.037598</td>\n",
       "      <td>1</td>\n",
       "      <td>4</td>\n",
       "      <td>488628.056575</td>\n",
       "    </tr>\n",
       "    <tr>\n",
       "      <th>836</th>\n",
       "      <td>2018</td>\n",
       "      <td>KAUKAUNA</td>\n",
       "      <td>1.147541</td>\n",
       "      <td>29.623066</td>\n",
       "      <td>1</td>\n",
       "      <td>4</td>\n",
       "      <td>7692.651650</td>\n",
       "    </tr>\n",
       "    <tr>\n",
       "      <th>839</th>\n",
       "      <td>2018</td>\n",
       "      <td>PRICE'S</td>\n",
       "      <td>0.196008</td>\n",
       "      <td>23.975959</td>\n",
       "      <td>1</td>\n",
       "      <td>4</td>\n",
       "      <td>6042.991800</td>\n",
       "    </tr>\n",
       "    <tr>\n",
       "      <th>...</th>\n",
       "      <td>...</td>\n",
       "      <td>...</td>\n",
       "      <td>...</td>\n",
       "      <td>...</td>\n",
       "      <td>...</td>\n",
       "      <td>...</td>\n",
       "      <td>...</td>\n",
       "    </tr>\n",
       "    <tr>\n",
       "      <th>80746</th>\n",
       "      <td>2021</td>\n",
       "      <td>MINI BABYBEL</td>\n",
       "      <td>952.971199</td>\n",
       "      <td>539.338324</td>\n",
       "      <td>12</td>\n",
       "      <td>4</td>\n",
       "      <td>373077.380850</td>\n",
       "    </tr>\n",
       "    <tr>\n",
       "      <th>80758</th>\n",
       "      <td>2021</td>\n",
       "      <td>KAUKAUNA</td>\n",
       "      <td>13.314860</td>\n",
       "      <td>23.189343</td>\n",
       "      <td>12</td>\n",
       "      <td>4</td>\n",
       "      <td>9126.050925</td>\n",
       "    </tr>\n",
       "    <tr>\n",
       "      <th>80764</th>\n",
       "      <td>2021</td>\n",
       "      <td>PRICE'S</td>\n",
       "      <td>13.230278</td>\n",
       "      <td>77.810720</td>\n",
       "      <td>12</td>\n",
       "      <td>4</td>\n",
       "      <td>22760.249325</td>\n",
       "    </tr>\n",
       "    <tr>\n",
       "      <th>80824</th>\n",
       "      <td>2021</td>\n",
       "      <td>MERKTS</td>\n",
       "      <td>0.309191</td>\n",
       "      <td>62.009957</td>\n",
       "      <td>12</td>\n",
       "      <td>4</td>\n",
       "      <td>15579.787225</td>\n",
       "    </tr>\n",
       "    <tr>\n",
       "      <th>80837</th>\n",
       "      <td>2021</td>\n",
       "      <td>NURISHH</td>\n",
       "      <td>111.101614</td>\n",
       "      <td>140.167385</td>\n",
       "      <td>12</td>\n",
       "      <td>4</td>\n",
       "      <td>62817.249700</td>\n",
       "    </tr>\n",
       "  </tbody>\n",
       "</table>\n",
       "<p>300 rows × 7 columns</p>\n",
       "</div>"
      ],
      "text/plain": [
       "       Year             Brand  Advertising   Promotion  Month  \\\n",
       "818    2018           BOURSIN    80.337033   40.643074      1   \n",
       "824    2018  THE LAUGHING COW   602.204522  152.581049      1   \n",
       "829    2018      MINI BABYBEL  1538.474628  416.037598      1   \n",
       "836    2018          KAUKAUNA     1.147541   29.623066      1   \n",
       "839    2018           PRICE'S     0.196008   23.975959      1   \n",
       "...     ...               ...          ...         ...    ...   \n",
       "80746  2021      MINI BABYBEL   952.971199  539.338324     12   \n",
       "80758  2021          KAUKAUNA    13.314860   23.189343     12   \n",
       "80764  2021           PRICE'S    13.230278   77.810720     12   \n",
       "80824  2021            MERKTS     0.309191   62.009957     12   \n",
       "80837  2021           NURISHH   111.101614  140.167385     12   \n",
       "\n",
       "       number of weeks            A&P  \n",
       "818                  4   30245.026650  \n",
       "824                  4  188696.392850  \n",
       "829                  4  488628.056575  \n",
       "836                  4    7692.651650  \n",
       "839                  4    6042.991800  \n",
       "...                ...            ...  \n",
       "80746                4  373077.380850  \n",
       "80758                4    9126.050925  \n",
       "80764                4   22760.249325  \n",
       "80824                4   15579.787225  \n",
       "80837                4   62817.249700  \n",
       "\n",
       "[300 rows x 7 columns]"
      ]
     },
     "execution_count": 192,
     "metadata": {},
     "output_type": "execute_result"
    }
   ],
   "source": [
    "df_final"
   ]
  },
  {
   "cell_type": "code",
   "execution_count": 193,
   "id": "e051655b",
   "metadata": {},
   "outputs": [],
   "source": [
    "full_idx = pd.date_range(start='2017-12-31', end='2021-12-26', freq='W')\n",
    "df_test = pd.DataFrame(index=full_idx)\n",
    "\n",
    "df_test['Year'] = df_test.index.year\n",
    "df_test['Month'] = df_test.index.month"
   ]
  },
  {
   "cell_type": "code",
   "execution_count": 194,
   "id": "aefea360",
   "metadata": {},
   "outputs": [],
   "source": [
    "df_concat = pd.DataFrame()\n",
    "for brand in df_final.Brand.unique():\n",
    "    df_concat = pd.concat([df_concat, pd.merge(df_final[df_final.Brand==brand], df_test.reset_index(), on=['Year', 'Month']).rename(columns={'index':'Date'})])"
   ]
  },
  {
   "cell_type": "code",
   "execution_count": 195,
   "id": "8e36df44",
   "metadata": {},
   "outputs": [
    {
     "data": {
      "text/html": [
       "<div>\n",
       "<style scoped>\n",
       "    .dataframe tbody tr th:only-of-type {\n",
       "        vertical-align: middle;\n",
       "    }\n",
       "\n",
       "    .dataframe tbody tr th {\n",
       "        vertical-align: top;\n",
       "    }\n",
       "\n",
       "    .dataframe thead th {\n",
       "        text-align: right;\n",
       "    }\n",
       "</style>\n",
       "<table border=\"1\" class=\"dataframe\">\n",
       "  <thead>\n",
       "    <tr style=\"text-align: right;\">\n",
       "      <th></th>\n",
       "      <th>Date</th>\n",
       "      <th>Brand</th>\n",
       "      <th>A&amp;P</th>\n",
       "    </tr>\n",
       "  </thead>\n",
       "  <tbody>\n",
       "    <tr>\n",
       "      <th>0</th>\n",
       "      <td>2018-01-07</td>\n",
       "      <td>BOURSIN</td>\n",
       "      <td>30245.026650</td>\n",
       "    </tr>\n",
       "    <tr>\n",
       "      <th>1</th>\n",
       "      <td>2018-01-14</td>\n",
       "      <td>BOURSIN</td>\n",
       "      <td>30245.026650</td>\n",
       "    </tr>\n",
       "    <tr>\n",
       "      <th>2</th>\n",
       "      <td>2018-01-21</td>\n",
       "      <td>BOURSIN</td>\n",
       "      <td>30245.026650</td>\n",
       "    </tr>\n",
       "    <tr>\n",
       "      <th>3</th>\n",
       "      <td>2018-01-28</td>\n",
       "      <td>BOURSIN</td>\n",
       "      <td>30245.026650</td>\n",
       "    </tr>\n",
       "    <tr>\n",
       "      <th>4</th>\n",
       "      <td>2018-02-04</td>\n",
       "      <td>BOURSIN</td>\n",
       "      <td>25076.470000</td>\n",
       "    </tr>\n",
       "    <tr>\n",
       "      <th>...</th>\n",
       "      <td>...</td>\n",
       "      <td>...</td>\n",
       "      <td>...</td>\n",
       "    </tr>\n",
       "    <tr>\n",
       "      <th>47</th>\n",
       "      <td>2021-11-28</td>\n",
       "      <td>NURISHH</td>\n",
       "      <td>24981.746625</td>\n",
       "    </tr>\n",
       "    <tr>\n",
       "      <th>48</th>\n",
       "      <td>2021-12-05</td>\n",
       "      <td>NURISHH</td>\n",
       "      <td>62817.249700</td>\n",
       "    </tr>\n",
       "    <tr>\n",
       "      <th>49</th>\n",
       "      <td>2021-12-12</td>\n",
       "      <td>NURISHH</td>\n",
       "      <td>62817.249700</td>\n",
       "    </tr>\n",
       "    <tr>\n",
       "      <th>50</th>\n",
       "      <td>2021-12-19</td>\n",
       "      <td>NURISHH</td>\n",
       "      <td>62817.249700</td>\n",
       "    </tr>\n",
       "    <tr>\n",
       "      <th>51</th>\n",
       "      <td>2021-12-26</td>\n",
       "      <td>NURISHH</td>\n",
       "      <td>62817.249700</td>\n",
       "    </tr>\n",
       "  </tbody>\n",
       "</table>\n",
       "<p>1300 rows × 3 columns</p>\n",
       "</div>"
      ],
      "text/plain": [
       "         Date    Brand           A&P\n",
       "0  2018-01-07  BOURSIN  30245.026650\n",
       "1  2018-01-14  BOURSIN  30245.026650\n",
       "2  2018-01-21  BOURSIN  30245.026650\n",
       "3  2018-01-28  BOURSIN  30245.026650\n",
       "4  2018-02-04  BOURSIN  25076.470000\n",
       "..        ...      ...           ...\n",
       "47 2021-11-28  NURISHH  24981.746625\n",
       "48 2021-12-05  NURISHH  62817.249700\n",
       "49 2021-12-12  NURISHH  62817.249700\n",
       "50 2021-12-19  NURISHH  62817.249700\n",
       "51 2021-12-26  NURISHH  62817.249700\n",
       "\n",
       "[1300 rows x 3 columns]"
      ]
     },
     "execution_count": 195,
     "metadata": {},
     "output_type": "execute_result"
    }
   ],
   "source": [
    "df_concat[['Date', 'Brand', 'A&P']]"
   ]
  },
  {
   "cell_type": "code",
   "execution_count": 196,
   "id": "f82b93db",
   "metadata": {},
   "outputs": [
    {
     "data": {
      "text/plain": [
       "array(['BOURSIN', 'THE LAUGHING COW', 'MINI BABYBEL', 'KAUKAUNA',\n",
       "       \"PRICE'S\", 'MERKTS', 'NURISHH'], dtype=object)"
      ]
     },
     "execution_count": 196,
     "metadata": {},
     "output_type": "execute_result"
    }
   ],
   "source": [
    "df_concat.Brand.unique()"
   ]
  },
  {
   "cell_type": "code",
   "execution_count": 200,
   "id": "da0e5aa0",
   "metadata": {},
   "outputs": [
    {
     "data": {
      "text/html": [
       "<div>\n",
       "<style scoped>\n",
       "    .dataframe tbody tr th:only-of-type {\n",
       "        vertical-align: middle;\n",
       "    }\n",
       "\n",
       "    .dataframe tbody tr th {\n",
       "        vertical-align: top;\n",
       "    }\n",
       "\n",
       "    .dataframe thead th {\n",
       "        text-align: right;\n",
       "    }\n",
       "</style>\n",
       "<table border=\"1\" class=\"dataframe\">\n",
       "  <thead>\n",
       "    <tr style=\"text-align: right;\">\n",
       "      <th></th>\n",
       "      <th>Year</th>\n",
       "      <th>Advertising</th>\n",
       "      <th>Promotion</th>\n",
       "      <th>Month</th>\n",
       "      <th>number of weeks</th>\n",
       "      <th>A&amp;P</th>\n",
       "      <th>Date</th>\n",
       "    </tr>\n",
       "    <tr>\n",
       "      <th>Brand</th>\n",
       "      <th></th>\n",
       "      <th></th>\n",
       "      <th></th>\n",
       "      <th></th>\n",
       "      <th></th>\n",
       "      <th></th>\n",
       "      <th></th>\n",
       "    </tr>\n",
       "  </thead>\n",
       "  <tbody>\n",
       "    <tr>\n",
       "      <th>BOURSIN</th>\n",
       "      <td>208</td>\n",
       "      <td>208</td>\n",
       "      <td>208</td>\n",
       "      <td>208</td>\n",
       "      <td>208</td>\n",
       "      <td>208</td>\n",
       "      <td>208</td>\n",
       "    </tr>\n",
       "    <tr>\n",
       "      <th>KAUKAUNA</th>\n",
       "      <td>208</td>\n",
       "      <td>208</td>\n",
       "      <td>208</td>\n",
       "      <td>208</td>\n",
       "      <td>208</td>\n",
       "      <td>208</td>\n",
       "      <td>208</td>\n",
       "    </tr>\n",
       "    <tr>\n",
       "      <th>MERKTS</th>\n",
       "      <td>208</td>\n",
       "      <td>208</td>\n",
       "      <td>208</td>\n",
       "      <td>208</td>\n",
       "      <td>208</td>\n",
       "      <td>208</td>\n",
       "      <td>208</td>\n",
       "    </tr>\n",
       "    <tr>\n",
       "      <th>MINI BABYBEL</th>\n",
       "      <td>208</td>\n",
       "      <td>208</td>\n",
       "      <td>208</td>\n",
       "      <td>208</td>\n",
       "      <td>208</td>\n",
       "      <td>208</td>\n",
       "      <td>208</td>\n",
       "    </tr>\n",
       "    <tr>\n",
       "      <th>NURISHH</th>\n",
       "      <td>52</td>\n",
       "      <td>52</td>\n",
       "      <td>52</td>\n",
       "      <td>52</td>\n",
       "      <td>52</td>\n",
       "      <td>52</td>\n",
       "      <td>52</td>\n",
       "    </tr>\n",
       "    <tr>\n",
       "      <th>PRICE'S</th>\n",
       "      <td>208</td>\n",
       "      <td>208</td>\n",
       "      <td>208</td>\n",
       "      <td>208</td>\n",
       "      <td>208</td>\n",
       "      <td>208</td>\n",
       "      <td>208</td>\n",
       "    </tr>\n",
       "    <tr>\n",
       "      <th>THE LAUGHING COW</th>\n",
       "      <td>208</td>\n",
       "      <td>208</td>\n",
       "      <td>208</td>\n",
       "      <td>208</td>\n",
       "      <td>208</td>\n",
       "      <td>208</td>\n",
       "      <td>208</td>\n",
       "    </tr>\n",
       "  </tbody>\n",
       "</table>\n",
       "</div>"
      ],
      "text/plain": [
       "                  Year  Advertising  Promotion  Month  number of weeks  A&P  \\\n",
       "Brand                                                                         \n",
       "BOURSIN            208          208        208    208              208  208   \n",
       "KAUKAUNA           208          208        208    208              208  208   \n",
       "MERKTS             208          208        208    208              208  208   \n",
       "MINI BABYBEL       208          208        208    208              208  208   \n",
       "NURISHH             52           52         52     52               52   52   \n",
       "PRICE'S            208          208        208    208              208  208   \n",
       "THE LAUGHING COW   208          208        208    208              208  208   \n",
       "\n",
       "                  Date  \n",
       "Brand                   \n",
       "BOURSIN            208  \n",
       "KAUKAUNA           208  \n",
       "MERKTS             208  \n",
       "MINI BABYBEL       208  \n",
       "NURISHH             52  \n",
       "PRICE'S            208  \n",
       "THE LAUGHING COW   208  "
      ]
     },
     "execution_count": 200,
     "metadata": {},
     "output_type": "execute_result"
    }
   ],
   "source": [
    "df_concat.groupby('Brand').count()"
   ]
  },
  {
   "cell_type": "code",
   "execution_count": null,
   "id": "05bbb24b",
   "metadata": {},
   "outputs": [],
   "source": []
  },
  {
   "cell_type": "code",
   "execution_count": null,
   "id": "a6a6065c",
   "metadata": {},
   "outputs": [],
   "source": []
  }
 ],
 "metadata": {
  "kernelspec": {
   "display_name": "gm_tool",
   "language": "python",
   "name": "gm_tool"
  },
  "language_info": {
   "codemirror_mode": {
    "name": "ipython",
    "version": 3
   },
   "file_extension": ".py",
   "mimetype": "text/x-python",
   "name": "python",
   "nbconvert_exporter": "python",
   "pygments_lexer": "ipython3",
   "version": "3.9.10"
  }
 },
 "nbformat": 4,
 "nbformat_minor": 5
}
