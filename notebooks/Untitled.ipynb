{
 "cells": [
  {
   "cell_type": "code",
   "execution_count": 1,
   "id": "74a5ac49",
   "metadata": {
    "ExecuteTime": {
     "end_time": "2022-02-28T16:23:02.065133Z",
     "start_time": "2022-02-28T16:23:00.701190Z"
    }
   },
   "outputs": [],
   "source": [
    "import sys\n",
    "sys.path.insert(0,\"/Users/ahmed/Projects/gm_tool/\")\n",
    "from datamanager.DM_USA import DM_USA\n"
   ]
  },
  {
   "cell_type": "code",
   "execution_count": 2,
   "id": "2735679c",
   "metadata": {
    "ExecuteTime": {
     "end_time": "2022-02-28T16:23:35.364147Z",
     "start_time": "2022-02-28T16:23:35.360225Z"
    }
   },
   "outputs": [],
   "source": [
    "country = \"USA\"\n",
    "brands_name = {\"BELGIUM\": [\"APERICUBE\", \"BABYBEL\", \"BOURSIN\", \"KIRI\", \"MINI BABYBEL\", \"VACHE QUI RIT\", \"MAREDSOUS\"],\n",
    "     \"USA\": [\"BABYBEL\", \"THE LAUGHING COW\", \"BOURSIN\", \"KAUKAUNA\", \"MERKTS\", \"PRICES\", \"NURISHH\"]}\n",
    "aandp_brands_name = {\"BELGIUM\": [\"APERICUBE\", \"BABYBEL\", \"BOURSIN\", \"KIRI\", \"MINI BABYBEL\", \"VACHE QUI RIT\", \"MAREDSOUS\"],\n",
    "    \"USA\": [\"000BQ - BOURSIN\", \"000LA - THE LAUGHING COW\", \"000MB - MINI BABYBEL\", \"000KC - KAUKAUNA\", \"000PG - PRICE'S\", \"000MI - MERKTS\", \"003NH - NURISHH\"]}\n",
    "features = [\"Date\", \"Brand\", \"Category\", \"Distribution\", \"Price per volume\", \"Sales in volume\"]"
   ]
  },
  {
   "cell_type": "code",
   "execution_count": 3,
   "id": "adeab65d",
   "metadata": {
    "ExecuteTime": {
     "end_time": "2022-02-28T16:25:51.731787Z",
     "start_time": "2022-02-28T16:23:37.484069Z"
    }
   },
   "outputs": [
    {
     "name": "stdout",
     "output_type": "stream",
     "text": [
      "page 1/14\n",
      "page 2/14\n",
      "page 3/14\n",
      "page 4/14\n",
      "page 5/14\n",
      "page 6/14\n",
      "page 7/14\n",
      "page 8/14\n",
      "page 9/14\n",
      "page 10/14\n",
      "page 11/14\n",
      "page 12/14\n",
      "page 13/14\n",
      "page 14/14\n",
      "columns and types are correct\n"
     ]
    },
    {
     "data": {
      "text/html": [
       "<div>\n",
       "<style scoped>\n",
       "    .dataframe tbody tr th:only-of-type {\n",
       "        vertical-align: middle;\n",
       "    }\n",
       "\n",
       "    .dataframe tbody tr th {\n",
       "        vertical-align: top;\n",
       "    }\n",
       "\n",
       "    .dataframe thead th {\n",
       "        text-align: right;\n",
       "    }\n",
       "</style>\n",
       "<table border=\"1\" class=\"dataframe\">\n",
       "  <thead>\n",
       "    <tr style=\"text-align: right;\">\n",
       "      <th></th>\n",
       "      <th>Brand</th>\n",
       "      <th>Date</th>\n",
       "      <th>A&amp;P</th>\n",
       "      <th>Rate of Innovation</th>\n",
       "      <th>Promo Cost</th>\n",
       "      <th>HH</th>\n",
       "    </tr>\n",
       "  </thead>\n",
       "  <tbody>\n",
       "    <tr>\n",
       "      <th>0</th>\n",
       "      <td>BOURSIN</td>\n",
       "      <td>2018-01-07</td>\n",
       "      <td>30245.02665</td>\n",
       "      <td>0.0</td>\n",
       "      <td>NaN</td>\n",
       "      <td>0.0</td>\n",
       "    </tr>\n",
       "    <tr>\n",
       "      <th>1</th>\n",
       "      <td>BOURSIN</td>\n",
       "      <td>2018-01-14</td>\n",
       "      <td>30245.02665</td>\n",
       "      <td>0.0</td>\n",
       "      <td>NaN</td>\n",
       "      <td>0.0</td>\n",
       "    </tr>\n",
       "    <tr>\n",
       "      <th>2</th>\n",
       "      <td>BOURSIN</td>\n",
       "      <td>2018-01-21</td>\n",
       "      <td>30245.02665</td>\n",
       "      <td>0.0</td>\n",
       "      <td>NaN</td>\n",
       "      <td>0.0</td>\n",
       "    </tr>\n",
       "    <tr>\n",
       "      <th>3</th>\n",
       "      <td>BOURSIN</td>\n",
       "      <td>2018-01-28</td>\n",
       "      <td>30245.02665</td>\n",
       "      <td>0.0</td>\n",
       "      <td>NaN</td>\n",
       "      <td>0.0</td>\n",
       "    </tr>\n",
       "    <tr>\n",
       "      <th>4</th>\n",
       "      <td>BOURSIN</td>\n",
       "      <td>2018-02-04</td>\n",
       "      <td>25076.47000</td>\n",
       "      <td>0.0</td>\n",
       "      <td>NaN</td>\n",
       "      <td>0.0</td>\n",
       "    </tr>\n",
       "  </tbody>\n",
       "</table>\n",
       "</div>"
      ],
      "text/plain": [
       "     Brand        Date          A&P  Rate of Innovation  Promo Cost   HH\n",
       "0  BOURSIN  2018-01-07  30245.02665                 0.0         NaN  0.0\n",
       "1  BOURSIN  2018-01-14  30245.02665                 0.0         NaN  0.0\n",
       "2  BOURSIN  2018-01-21  30245.02665                 0.0         NaN  0.0\n",
       "3  BOURSIN  2018-01-28  30245.02665                 0.0         NaN  0.0\n",
       "4  BOURSIN  2018-02-04  25076.47000                 0.0         NaN  0.0"
      ]
     },
     "execution_count": 3,
     "metadata": {},
     "output_type": "execute_result"
    }
   ],
   "source": [
    "# Loading dataframe using datamanager\n",
    "data_manager = DM_USA(brands_name[country], aandp_brands_name[country])\n",
    "df_bel = data_manager.get_df_bel()\n",
    "df = data_manager.get_df()\n",
    "df.head()\n",
    "df_bel.head()"
   ]
  },
  {
   "cell_type": "code",
   "execution_count": 5,
   "id": "d7ba8b24",
   "metadata": {
    "ExecuteTime": {
     "end_time": "2022-02-28T16:26:50.266902Z",
     "start_time": "2022-02-28T16:26:50.247942Z"
    }
   },
   "outputs": [
    {
     "data": {
      "text/html": [
       "<div>\n",
       "<style scoped>\n",
       "    .dataframe tbody tr th:only-of-type {\n",
       "        vertical-align: middle;\n",
       "    }\n",
       "\n",
       "    .dataframe tbody tr th {\n",
       "        vertical-align: top;\n",
       "    }\n",
       "\n",
       "    .dataframe thead th {\n",
       "        text-align: right;\n",
       "    }\n",
       "</style>\n",
       "<table border=\"1\" class=\"dataframe\">\n",
       "  <thead>\n",
       "    <tr style=\"text-align: right;\">\n",
       "      <th></th>\n",
       "      <th>Date</th>\n",
       "      <th>A&amp;P</th>\n",
       "      <th>Rate of Innovation</th>\n",
       "      <th>Promo Cost</th>\n",
       "      <th>HH</th>\n",
       "    </tr>\n",
       "    <tr>\n",
       "      <th>Brand</th>\n",
       "      <th></th>\n",
       "      <th></th>\n",
       "      <th></th>\n",
       "      <th></th>\n",
       "      <th></th>\n",
       "    </tr>\n",
       "  </thead>\n",
       "  <tbody>\n",
       "    <tr>\n",
       "      <th>BABYBEL</th>\n",
       "      <td>208</td>\n",
       "      <td>208</td>\n",
       "      <td>208</td>\n",
       "      <td>156</td>\n",
       "      <td>208</td>\n",
       "    </tr>\n",
       "    <tr>\n",
       "      <th>BOURSIN</th>\n",
       "      <td>208</td>\n",
       "      <td>208</td>\n",
       "      <td>208</td>\n",
       "      <td>156</td>\n",
       "      <td>208</td>\n",
       "    </tr>\n",
       "    <tr>\n",
       "      <th>KAUKAUNA</th>\n",
       "      <td>208</td>\n",
       "      <td>208</td>\n",
       "      <td>208</td>\n",
       "      <td>156</td>\n",
       "      <td>208</td>\n",
       "    </tr>\n",
       "    <tr>\n",
       "      <th>MERKTS</th>\n",
       "      <td>208</td>\n",
       "      <td>208</td>\n",
       "      <td>208</td>\n",
       "      <td>156</td>\n",
       "      <td>208</td>\n",
       "    </tr>\n",
       "    <tr>\n",
       "      <th>NURISHH</th>\n",
       "      <td>52</td>\n",
       "      <td>52</td>\n",
       "      <td>0</td>\n",
       "      <td>37</td>\n",
       "      <td>0</td>\n",
       "    </tr>\n",
       "    <tr>\n",
       "      <th>PRICES</th>\n",
       "      <td>208</td>\n",
       "      <td>208</td>\n",
       "      <td>208</td>\n",
       "      <td>156</td>\n",
       "      <td>208</td>\n",
       "    </tr>\n",
       "    <tr>\n",
       "      <th>THE LAUGHING COW</th>\n",
       "      <td>208</td>\n",
       "      <td>208</td>\n",
       "      <td>208</td>\n",
       "      <td>156</td>\n",
       "      <td>208</td>\n",
       "    </tr>\n",
       "  </tbody>\n",
       "</table>\n",
       "</div>"
      ],
      "text/plain": [
       "                  Date  A&P  Rate of Innovation  Promo Cost   HH\n",
       "Brand                                                           \n",
       "BABYBEL            208  208                 208         156  208\n",
       "BOURSIN            208  208                 208         156  208\n",
       "KAUKAUNA           208  208                 208         156  208\n",
       "MERKTS             208  208                 208         156  208\n",
       "NURISHH             52   52                   0          37    0\n",
       "PRICES             208  208                 208         156  208\n",
       "THE LAUGHING COW   208  208                 208         156  208"
      ]
     },
     "execution_count": 5,
     "metadata": {},
     "output_type": "execute_result"
    }
   ],
   "source": [
    "df_bel.groupby('Brand').count()"
   ]
  },
  {
   "cell_type": "code",
   "execution_count": null,
   "id": "8d986788",
   "metadata": {},
   "outputs": [],
   "source": []
  }
 ],
 "metadata": {
  "kernelspec": {
   "display_name": "Python 3 (ipykernel)",
   "language": "python",
   "name": "python3"
  },
  "language_info": {
   "codemirror_mode": {
    "name": "ipython",
    "version": 3
   },
   "file_extension": ".py",
   "mimetype": "text/x-python",
   "name": "python",
   "nbconvert_exporter": "python",
   "pygments_lexer": "ipython3",
   "version": "3.7.11"
  },
  "toc": {
   "base_numbering": 1,
   "nav_menu": {},
   "number_sections": true,
   "sideBar": true,
   "skip_h1_title": false,
   "title_cell": "Table of Contents",
   "title_sidebar": "Contents",
   "toc_cell": false,
   "toc_position": {},
   "toc_section_display": true,
   "toc_window_display": false
  }
 },
 "nbformat": 4,
 "nbformat_minor": 5
}
