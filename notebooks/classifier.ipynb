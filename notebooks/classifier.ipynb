{
 "cells": [
  {
   "cell_type": "code",
   "execution_count": 7,
   "metadata": {},
   "outputs": [],
   "source": [
    "#This is the notebook to set and train the clusterer\n",
    "\n",
    "PATH_TO_CLUSTERS = 'assets/USA_clusters_7.csv'\n",
    "PATH_OUT = 'assets/'"
   ]
  },
  {
   "cell_type": "code",
   "execution_count": null,
   "metadata": {},
   "outputs": [],
   "source": []
  },
  {
   "cell_type": "code",
   "execution_count": 4,
   "metadata": {},
   "outputs": [],
   "source": [
    "import pandas as pd\n",
    "import numpy as np\n",
    "import pickle\n",
    "import json\n",
    "from sklearn.ensemble import RandomForestClassifier\n",
    "from sklearn.model_selection import train_test_split\n",
    "from sklearn.metrics import confusion_matrix,ConfusionMatrixDisplay\n",
    "\n",
    "from datamanager.DM_USA import DM_USA"
   ]
  },
  {
   "cell_type": "code",
   "execution_count": 5,
   "metadata": {},
   "outputs": [],
   "source": [
    "\"\"\"load data from csv into DataManager\"\"\"\n",
    "with open('assets/params.json', 'r') as f:\n",
    "    json_sell_out_params = json.load(f)\n",
    "\n",
    "data_manager=DM_USA()\n",
    "data_manager.ad_hoc_USA(json_sell_out_params)\n",
    "#SHAPE (17160, 14)"
   ]
  },
  {
   "cell_type": "code",
   "execution_count": 9,
   "metadata": {},
   "outputs": [],
   "source": [
    "df = data_manager.get_df()"
   ]
  },
  {
   "cell_type": "code",
   "execution_count": 8,
   "metadata": {},
   "outputs": [
    {
     "data": {
      "text/plain": [
       "(1522, 4)"
      ]
     },
     "execution_count": 8,
     "metadata": {},
     "output_type": "execute_result"
    }
   ],
   "source": [
    "\"\"\"load clusters_Belgium.csv\"\"\"\n",
    "clusters = pd.read_csv(PATH_TO_CLUSTERS)\n",
    "clusters.shape\n",
    "#SHAPE (234, 4)"
   ]
  },
  {
   "cell_type": "code",
   "execution_count": 10,
   "metadata": {},
   "outputs": [
    {
     "data": {
      "text/plain": [
       "(318098, 15)"
      ]
     },
     "execution_count": 10,
     "metadata": {},
     "output_type": "execute_result"
    }
   ],
   "source": [
    "\"\"\"merge clusters into dataset, (reduce dataset to [Category, Brand, Sub Category] that are in clusters)\"\"\"\n",
    "df_merged = pd.merge(clusters, df, on=['Category', 'Brand', 'Sub Category'])\n",
    "df_merged.shape\n",
    "#SHAPE (9360, 15)"
   ]
  },
  {
   "cell_type": "code",
   "execution_count": 11,
   "metadata": {},
   "outputs": [],
   "source": [
    "\"\"\"log Distribution and Price\"\"\"\n",
    "df_merged['Distribution'] = np.array(map(np.log1p, df_merged['Distribution'].values))\n",
    "df_merged['Price per volume'] = np.array(map(np.log1p, df_merged['Price per volume'].values))\n",
    "#df_merged['Distribution'] = df_merged['Distribution'].apply(np.log1p)\n",
    "#df_merged['Price per volume'] = df_merged['Price per volume'].apply(np.log1p)"
   ]
  },
  {
   "cell_type": "code",
   "execution_count": 12,
   "metadata": {},
   "outputs": [],
   "source": [
    "\"\"\"add number of caregories, number of sub categories\"\"\"\n",
    "df_brand_categ = df_merged.groupby(['Brand'])['Category'].agg(Number_of_Categories = \"nunique\").reset_index().rename(columns={'Number_of_Categories':'Number of Categories'})\n",
    "df_merged = pd.merge(df_merged, df_brand_categ, on=\"Brand\", how=\"left\")\n",
    "\n",
    "\n",
    "df_sub_cat = df_merged.groupby(['Brand', 'Category'])['Sub Category'].agg(Sub_Categories='nunique').reset_index().rename(columns={'Sub_Categories':'Number of Sub Categories'})\n",
    "df_merged = pd.merge(df_merged, df_sub_cat, on=[\"Brand\", 'Category'], how=\"left\")"
   ]
  },
  {
   "cell_type": "code",
   "execution_count": 13,
   "metadata": {},
   "outputs": [
    {
     "name": "stderr",
     "output_type": "stream",
     "text": [
      "/var/folders/3n/8sjtl4yd5k518vq7tdlbr_nm0000gn/T/ipykernel_16072/3657165396.py:2: FutureWarning: Indexing with multiple keys (implicitly converted to a tuple of keys) will be deprecated, use a list instead.\n",
      "  df_sub = df_merged.groupby(['Category', 'Sub Category', 'Brand'], as_index=False)['Cluster', 'Number of Categories', 'Number of Sub Categories'].max()\n"
     ]
    },
    {
     "data": {
      "text/plain": [
       "(1522, 6)"
      ]
     },
     "execution_count": 13,
     "metadata": {},
     "output_type": "execute_result"
    }
   ],
   "source": [
    "\"\"\"sub dataframe as groupby [Category, Sub Category, Brand]\"\"\"\n",
    "df_sub = df_merged.groupby(['Category', 'Sub Category', 'Brand'], as_index=False)['Cluster', 'Number of Categories', 'Number of Sub Categories'].max()\n",
    "df_sub.shape\n",
    "#SHAPE (234, 6)"
   ]
  },
  {
   "cell_type": "code",
   "execution_count": 14,
   "metadata": {},
   "outputs": [],
   "source": [
    "\"\"\"compute high level metrics for time series of Distribution and Price per volume : min, max, mean, std\"\"\"\n",
    "Distribution = df_merged.groupby(['Category', 'Sub Category', 'Brand'], as_index=False)['Distribution'].agg(\n",
    "    {'min Distribution':'min', 'max Distribution':'max', 'mean Distribution':'mean', 'std Distribution':'std'}\n",
    ")\n",
    "\n",
    "\n",
    "Price = df_merged.groupby(['Category', 'Sub Category', 'Brand'], as_index=False)['Price per volume'].agg(\n",
    "    {'min Price':'min', 'max Price':'max', 'mean Price':'mean', 'std Price':'std'}\n",
    ")"
   ]
  },
  {
   "cell_type": "code",
   "execution_count": 15,
   "metadata": {},
   "outputs": [
    {
     "data": {
      "text/plain": [
       "(1522, 14)"
      ]
     },
     "execution_count": 15,
     "metadata": {},
     "output_type": "execute_result"
    }
   ],
   "source": [
    "\"\"\"merge high level metrics into df_sub\"\"\"\n",
    "df_sub = pd.merge(df_sub, Distribution, on=['Category', 'Sub Category', 'Brand'])\n",
    "\n",
    "df_sub = pd.merge(df_sub, Price, on=['Category', 'Sub Category', 'Brand'])\n",
    "df_sub.shape\n",
    "#SHAPE (234, 14)"
   ]
  },
  {
   "cell_type": "code",
   "execution_count": 16,
   "metadata": {},
   "outputs": [
    {
     "data": {
      "text/html": [
       "<div>\n",
       "<style scoped>\n",
       "    .dataframe tbody tr th:only-of-type {\n",
       "        vertical-align: middle;\n",
       "    }\n",
       "\n",
       "    .dataframe tbody tr th {\n",
       "        vertical-align: top;\n",
       "    }\n",
       "\n",
       "    .dataframe thead th {\n",
       "        text-align: right;\n",
       "    }\n",
       "</style>\n",
       "<table border=\"1\" class=\"dataframe\">\n",
       "  <thead>\n",
       "    <tr style=\"text-align: right;\">\n",
       "      <th></th>\n",
       "      <th>Category</th>\n",
       "      <th>Sub Category</th>\n",
       "      <th>Brand</th>\n",
       "      <th>Cluster</th>\n",
       "      <th>Number of Categories</th>\n",
       "      <th>Number of Sub Categories</th>\n",
       "      <th>min Distribution</th>\n",
       "      <th>max Distribution</th>\n",
       "      <th>mean Distribution</th>\n",
       "      <th>std Distribution</th>\n",
       "      <th>min Price</th>\n",
       "      <th>max Price</th>\n",
       "      <th>mean Price</th>\n",
       "      <th>std Price</th>\n",
       "    </tr>\n",
       "  </thead>\n",
       "  <tbody>\n",
       "    <tr>\n",
       "      <th>0</th>\n",
       "      <td>CLASSIC SPREADS</td>\n",
       "      <td>CLASSIC SPREADS</td>\n",
       "      <td>1000 ISLANDS RIVER RAT CHEESE</td>\n",
       "      <td>4</td>\n",
       "      <td>3</td>\n",
       "      <td>1</td>\n",
       "      <td>0.002717</td>\n",
       "      <td>0.026038</td>\n",
       "      <td>0.012917</td>\n",
       "      <td>0.005076</td>\n",
       "      <td>2.195000</td>\n",
       "      <td>2.563410</td>\n",
       "      <td>2.502905</td>\n",
       "      <td>0.073939</td>\n",
       "    </tr>\n",
       "    <tr>\n",
       "      <th>1</th>\n",
       "      <td>CLASSIC SPREADS</td>\n",
       "      <td>CLASSIC SPREADS</td>\n",
       "      <td>AMISH COUNTRY</td>\n",
       "      <td>6</td>\n",
       "      <td>2</td>\n",
       "      <td>1</td>\n",
       "      <td>0.432225</td>\n",
       "      <td>0.879614</td>\n",
       "      <td>0.584620</td>\n",
       "      <td>0.081734</td>\n",
       "      <td>2.195687</td>\n",
       "      <td>2.456572</td>\n",
       "      <td>2.386366</td>\n",
       "      <td>0.040652</td>\n",
       "    </tr>\n",
       "    <tr>\n",
       "      <th>2</th>\n",
       "      <td>CLASSIC SPREADS</td>\n",
       "      <td>CLASSIC SPREADS</td>\n",
       "      <td>APPEL FARM QUARK</td>\n",
       "      <td>6</td>\n",
       "      <td>1</td>\n",
       "      <td>1</td>\n",
       "      <td>0.055242</td>\n",
       "      <td>0.171575</td>\n",
       "      <td>0.106467</td>\n",
       "      <td>0.023035</td>\n",
       "      <td>1.552458</td>\n",
       "      <td>1.863690</td>\n",
       "      <td>1.767229</td>\n",
       "      <td>0.032317</td>\n",
       "    </tr>\n",
       "    <tr>\n",
       "      <th>3</th>\n",
       "      <td>CLASSIC SPREADS</td>\n",
       "      <td>CLASSIC SPREADS</td>\n",
       "      <td>AURICCHIO</td>\n",
       "      <td>4</td>\n",
       "      <td>5</td>\n",
       "      <td>1</td>\n",
       "      <td>0.002909</td>\n",
       "      <td>1.532103</td>\n",
       "      <td>0.781290</td>\n",
       "      <td>0.432320</td>\n",
       "      <td>2.752527</td>\n",
       "      <td>3.339073</td>\n",
       "      <td>3.025957</td>\n",
       "      <td>0.103222</td>\n",
       "    </tr>\n",
       "    <tr>\n",
       "      <th>4</th>\n",
       "      <td>CLASSIC SPREADS</td>\n",
       "      <td>CLASSIC SPREADS</td>\n",
       "      <td>B L</td>\n",
       "      <td>6</td>\n",
       "      <td>2</td>\n",
       "      <td>1</td>\n",
       "      <td>0.035805</td>\n",
       "      <td>1.312691</td>\n",
       "      <td>0.899917</td>\n",
       "      <td>0.287954</td>\n",
       "      <td>2.087050</td>\n",
       "      <td>2.198746</td>\n",
       "      <td>2.158983</td>\n",
       "      <td>0.018248</td>\n",
       "    </tr>\n",
       "    <tr>\n",
       "      <th>...</th>\n",
       "      <td>...</td>\n",
       "      <td>...</td>\n",
       "      <td>...</td>\n",
       "      <td>...</td>\n",
       "      <td>...</td>\n",
       "      <td>...</td>\n",
       "      <td>...</td>\n",
       "      <td>...</td>\n",
       "      <td>...</td>\n",
       "      <td>...</td>\n",
       "      <td>...</td>\n",
       "      <td>...</td>\n",
       "      <td>...</td>\n",
       "      <td>...</td>\n",
       "    </tr>\n",
       "    <tr>\n",
       "      <th>1517</th>\n",
       "      <td>SNACKING COMBOS</td>\n",
       "      <td>CHEESE SNACKING COMBO</td>\n",
       "      <td>KRAMER FARMS PRO GO</td>\n",
       "      <td>6</td>\n",
       "      <td>1</td>\n",
       "      <td>1</td>\n",
       "      <td>0.036995</td>\n",
       "      <td>1.516007</td>\n",
       "      <td>0.748327</td>\n",
       "      <td>0.517307</td>\n",
       "      <td>2.299926</td>\n",
       "      <td>2.716994</td>\n",
       "      <td>2.470643</td>\n",
       "      <td>0.081323</td>\n",
       "    </tr>\n",
       "    <tr>\n",
       "      <th>1518</th>\n",
       "      <td>SNACKING COMBOS</td>\n",
       "      <td>CHEESE SNACKING COMBO</td>\n",
       "      <td>LUNCHABLES</td>\n",
       "      <td>0</td>\n",
       "      <td>1</td>\n",
       "      <td>2</td>\n",
       "      <td>4.229371</td>\n",
       "      <td>4.894106</td>\n",
       "      <td>4.718607</td>\n",
       "      <td>0.153511</td>\n",
       "      <td>1.659706</td>\n",
       "      <td>2.148748</td>\n",
       "      <td>1.957962</td>\n",
       "      <td>0.103826</td>\n",
       "    </tr>\n",
       "    <tr>\n",
       "      <th>1519</th>\n",
       "      <td>SNACKING COMBOS</td>\n",
       "      <td>CHEESE SNACKING COMBO</td>\n",
       "      <td>OLD FASHIONED</td>\n",
       "      <td>4</td>\n",
       "      <td>3</td>\n",
       "      <td>1</td>\n",
       "      <td>0.153924</td>\n",
       "      <td>1.876001</td>\n",
       "      <td>0.815134</td>\n",
       "      <td>0.459244</td>\n",
       "      <td>1.807638</td>\n",
       "      <td>2.593447</td>\n",
       "      <td>2.415535</td>\n",
       "      <td>0.116768</td>\n",
       "    </tr>\n",
       "    <tr>\n",
       "      <th>1520</th>\n",
       "      <td>SNACKING COMBOS</td>\n",
       "      <td>CHEESE SNACKING COMBO</td>\n",
       "      <td>PRIVATE LABEL</td>\n",
       "      <td>3</td>\n",
       "      <td>14</td>\n",
       "      <td>4</td>\n",
       "      <td>3.980449</td>\n",
       "      <td>4.854523</td>\n",
       "      <td>4.598985</td>\n",
       "      <td>0.195991</td>\n",
       "      <td>2.333992</td>\n",
       "      <td>2.583540</td>\n",
       "      <td>2.420705</td>\n",
       "      <td>0.054282</td>\n",
       "    </tr>\n",
       "    <tr>\n",
       "      <th>1521</th>\n",
       "      <td>SNACKING COMBOS</td>\n",
       "      <td>CHEESE SNACKING COMBO</td>\n",
       "      <td>SARGENTO</td>\n",
       "      <td>0</td>\n",
       "      <td>5</td>\n",
       "      <td>2</td>\n",
       "      <td>6.285330</td>\n",
       "      <td>6.769844</td>\n",
       "      <td>6.638445</td>\n",
       "      <td>0.082588</td>\n",
       "      <td>2.387198</td>\n",
       "      <td>2.606145</td>\n",
       "      <td>2.539814</td>\n",
       "      <td>0.042063</td>\n",
       "    </tr>\n",
       "  </tbody>\n",
       "</table>\n",
       "<p>1522 rows × 14 columns</p>\n",
       "</div>"
      ],
      "text/plain": [
       "             Category           Sub Category                          Brand  \\\n",
       "0     CLASSIC SPREADS        CLASSIC SPREADS  1000 ISLANDS RIVER RAT CHEESE   \n",
       "1     CLASSIC SPREADS        CLASSIC SPREADS                  AMISH COUNTRY   \n",
       "2     CLASSIC SPREADS        CLASSIC SPREADS               APPEL FARM QUARK   \n",
       "3     CLASSIC SPREADS        CLASSIC SPREADS                      AURICCHIO   \n",
       "4     CLASSIC SPREADS        CLASSIC SPREADS                            B L   \n",
       "...               ...                    ...                            ...   \n",
       "1517  SNACKING COMBOS  CHEESE SNACKING COMBO            KRAMER FARMS PRO GO   \n",
       "1518  SNACKING COMBOS  CHEESE SNACKING COMBO                     LUNCHABLES   \n",
       "1519  SNACKING COMBOS  CHEESE SNACKING COMBO                  OLD FASHIONED   \n",
       "1520  SNACKING COMBOS  CHEESE SNACKING COMBO                  PRIVATE LABEL   \n",
       "1521  SNACKING COMBOS  CHEESE SNACKING COMBO                       SARGENTO   \n",
       "\n",
       "      Cluster  Number of Categories  Number of Sub Categories  \\\n",
       "0           4                     3                         1   \n",
       "1           6                     2                         1   \n",
       "2           6                     1                         1   \n",
       "3           4                     5                         1   \n",
       "4           6                     2                         1   \n",
       "...       ...                   ...                       ...   \n",
       "1517        6                     1                         1   \n",
       "1518        0                     1                         2   \n",
       "1519        4                     3                         1   \n",
       "1520        3                    14                         4   \n",
       "1521        0                     5                         2   \n",
       "\n",
       "      min Distribution  max Distribution  mean Distribution  std Distribution  \\\n",
       "0             0.002717          0.026038           0.012917          0.005076   \n",
       "1             0.432225          0.879614           0.584620          0.081734   \n",
       "2             0.055242          0.171575           0.106467          0.023035   \n",
       "3             0.002909          1.532103           0.781290          0.432320   \n",
       "4             0.035805          1.312691           0.899917          0.287954   \n",
       "...                ...               ...                ...               ...   \n",
       "1517          0.036995          1.516007           0.748327          0.517307   \n",
       "1518          4.229371          4.894106           4.718607          0.153511   \n",
       "1519          0.153924          1.876001           0.815134          0.459244   \n",
       "1520          3.980449          4.854523           4.598985          0.195991   \n",
       "1521          6.285330          6.769844           6.638445          0.082588   \n",
       "\n",
       "      min Price  max Price  mean Price  std Price  \n",
       "0      2.195000   2.563410    2.502905   0.073939  \n",
       "1      2.195687   2.456572    2.386366   0.040652  \n",
       "2      1.552458   1.863690    1.767229   0.032317  \n",
       "3      2.752527   3.339073    3.025957   0.103222  \n",
       "4      2.087050   2.198746    2.158983   0.018248  \n",
       "...         ...        ...         ...        ...  \n",
       "1517   2.299926   2.716994    2.470643   0.081323  \n",
       "1518   1.659706   2.148748    1.957962   0.103826  \n",
       "1519   1.807638   2.593447    2.415535   0.116768  \n",
       "1520   2.333992   2.583540    2.420705   0.054282  \n",
       "1521   2.387198   2.606145    2.539814   0.042063  \n",
       "\n",
       "[1522 rows x 14 columns]"
      ]
     },
     "execution_count": 16,
     "metadata": {},
     "output_type": "execute_result"
    }
   ],
   "source": [
    "df_sub"
   ]
  },
  {
   "cell_type": "code",
   "execution_count": 20,
   "metadata": {},
   "outputs": [
    {
     "data": {
      "text/plain": [
       "RandomForestClassifier(max_depth=6, random_state=0)"
      ]
     },
     "execution_count": 20,
     "metadata": {},
     "output_type": "execute_result"
    }
   ],
   "source": [
    "\"\"\"train RandomForestClassifier to classify [Category, Sub Category, Brand] in the correct clusters\"\"\"\n",
    "clf = RandomForestClassifier(max_depth=6, random_state=0)\n",
    "\n",
    "X = df_sub.loc[:, ~df_sub.columns.isin(['Brand', 'Category', 'Sub Category', 'Cluster'])].astype(float)\n",
    "y = df_sub['Cluster'].astype(float)\n",
    "\n",
    "X_train, X_test, y_train, y_test = train_test_split(X, y, test_size=0.33, random_state=42, shuffle=True)\n",
    "\n",
    "clf.fit(X_train, y_train)\n"
   ]
  },
  {
   "cell_type": "code",
   "execution_count": 21,
   "metadata": {},
   "outputs": [
    {
     "data": {
      "text/plain": [
       "Index(['Number of Categories', 'Number of Sub Categories', 'min Distribution',\n",
       "       'max Distribution', 'mean Distribution', 'std Distribution',\n",
       "       'min Price', 'max Price', 'mean Price', 'std Price'],\n",
       "      dtype='object')"
      ]
     },
     "execution_count": 21,
     "metadata": {},
     "output_type": "execute_result"
    }
   ],
   "source": [
    "X.columns"
   ]
  },
  {
   "cell_type": "code",
   "execution_count": 24,
   "metadata": {},
   "outputs": [],
   "source": [
    "\"\"\"save model\"\"\"\n",
    "#pickle.dump(clf, open('assets/USA_classifier_7.sav', 'wb'))"
   ]
  },
  {
   "cell_type": "code",
   "execution_count": 23,
   "metadata": {},
   "outputs": [
    {
     "data": {
      "text/plain": [
       "<sklearn.metrics._plot.confusion_matrix.ConfusionMatrixDisplay at 0x1578639d0>"
      ]
     },
     "execution_count": 23,
     "metadata": {},
     "output_type": "execute_result"
    },
    {
     "data": {
      "image/png": "[encoded data removed]",
      "text/plain": [
       "<Figure size 432x288 with 2 Axes>"
      ]
     },
     "metadata": {
      "needs_background": "light"
     },
     "output_type": "display_data"
    }
   ],
   "source": [
    "\"\"\"Confusion matrix to evaluate the classifier\"\"\"\n",
    "y_pred=clf.predict(X_test)\n",
    "cm = confusion_matrix(y_test, y_pred, labels=clf.classes_)\n",
    "disp = ConfusionMatrixDisplay(confusion_matrix=cm, display_labels=clf.classes_)\n",
    "disp.plot()"
   ]
  },
  {
   "cell_type": "code",
   "execution_count": null,
   "metadata": {},
   "outputs": [],
   "source": []
  },
  {
   "cell_type": "code",
   "execution_count": null,
   "metadata": {},
   "outputs": [],
   "source": []
  },
  {
   "cell_type": "code",
   "execution_count": null,
   "metadata": {},
   "outputs": [],
   "source": []
  }
 ],
 "metadata": {
  "kernelspec": {
   "display_name": "gm_tool",
   "language": "python",
   "name": "gm_tool"
  },
  "orig_nbformat": 4
 },
 "nbformat": 4,
 "nbformat_minor": 2
}
