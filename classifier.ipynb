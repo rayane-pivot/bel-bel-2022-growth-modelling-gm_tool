{
 "cells": [
  {
   "cell_type": "code",
   "execution_count": 48,
   "metadata": {},
   "outputs": [],
   "source": [
    "#This is the notebook to set and train the clusterer\n",
    "\n",
    "PATH_TO_CLUSTERS = 'assets/clusters_USA.csv'\n",
    "PATH_OUT = 'assets/'"
   ]
  },
  {
   "cell_type": "code",
   "execution_count": null,
   "metadata": {},
   "outputs": [],
   "source": []
  },
  {
   "cell_type": "code",
   "execution_count": 49,
   "metadata": {},
   "outputs": [],
   "source": [
    "import pandas as pd\n",
    "import numpy as np\n",
    "import pickle\n",
    "from sklearn.ensemble import RandomForestClassifier\n",
    "from sklearn.model_selection import train_test_split\n",
    "from sklearn.metrics import confusion_matrix,ConfusionMatrixDisplay\n",
    "\n",
    "from datamanager.DM_Belgique import DM_Belgique\n",
    "from datamanager.DM_USA import DM_USA"
   ]
  },
  {
   "cell_type": "code",
   "execution_count": 50,
   "metadata": {},
   "outputs": [
    {
     "name": "stdout",
     "output_type": "stream",
     "text": [
      "page 1 / 13\n",
      "page 2 / 13\n",
      "page 3 / 13\n",
      "page 4 / 13\n",
      "page 5 / 13\n",
      "page 6 / 13\n",
      "page 7 / 13\n",
      "page 8 / 13\n",
      "page 9 / 13\n",
      "page 10 / 13\n",
      "page 11 / 13\n",
      "page 12 / 13\n",
      "page 13 / 13\n"
     ]
    }
   ],
   "source": [
    "\"\"\"load data from csv into DataManager\"\"\"\n",
    "data_manager = DM_USA()\n",
    "#SHAPE (17160, 14)"
   ]
  },
  {
   "cell_type": "code",
   "execution_count": 51,
   "metadata": {},
   "outputs": [
    {
     "data": {
      "text/plain": [
       "(1572, 4)"
      ]
     },
     "execution_count": 51,
     "metadata": {},
     "output_type": "execute_result"
    }
   ],
   "source": [
    "\"\"\"load clusters_Belgium.csv\"\"\"\n",
    "clusters = pd.read_csv(PATH_TO_CLUSTERS)\n",
    "clusters.shape\n",
    "#SHAPE (234, 4)"
   ]
  },
  {
   "cell_type": "code",
   "execution_count": 52,
   "metadata": {},
   "outputs": [
    {
     "data": {
      "text/plain": [
       "(328548, 12)"
      ]
     },
     "execution_count": 52,
     "metadata": {},
     "output_type": "execute_result"
    }
   ],
   "source": [
    "\"\"\"merge clusters into dataset, (reduce dataset to [Category, Brand, Sub Category] that are in clusters)\"\"\"\n",
    "df_merged = pd.merge(clusters, data_manager.df, on=['Category', 'Brand', 'Sub Category'])\n",
    "df_merged.shape\n",
    "#SHAPE (9360, 15)"
   ]
  },
  {
   "cell_type": "code",
   "execution_count": 53,
   "metadata": {},
   "outputs": [],
   "source": [
    "\"\"\"log Distribution and Price\"\"\"\n",
    "df_merged['Distribution'] = np.array(map(np.log1p, df_merged['Distribution'].values))\n",
    "df_merged['Price per volume'] = np.array(map(np.log1p, df_merged['Price per volume'].values))\n",
    "#df_merged['Distribution'] = df_merged['Distribution'].apply(np.log1p)\n",
    "#df_merged['Price per volume'] = df_merged['Price per volume'].apply(np.log1p)"
   ]
  },
  {
   "cell_type": "code",
   "execution_count": 54,
   "metadata": {},
   "outputs": [],
   "source": [
    "\"\"\"add number of caregories, number of sub categories\"\"\"\n",
    "df_brand_categ = df_merged.groupby(['Brand'])['Category'].agg(Number_of_Categories = \"nunique\").reset_index().rename(columns={'Number_of_Categories':'Number of Categories'})\n",
    "df_merged = pd.merge(df_merged, df_brand_categ, on=\"Brand\", how=\"left\")\n",
    "\n",
    "\n",
    "df_sub_cat = df_merged.groupby(['Brand', 'Category'])['Sub Category'].agg(Sub_Categories='nunique').reset_index().rename(columns={'Sub_Categories':'Number of Sub Categories'})\n",
    "df_merged = pd.merge(df_merged, df_sub_cat, on=[\"Brand\", 'Category'], how=\"left\")"
   ]
  },
  {
   "cell_type": "code",
   "execution_count": 55,
   "metadata": {},
   "outputs": [
    {
     "name": "stderr",
     "output_type": "stream",
     "text": [
      "/var/folders/3n/8sjtl4yd5k518vq7tdlbr_nm0000gn/T/ipykernel_56191/3657165396.py:2: FutureWarning: Indexing with multiple keys (implicitly converted to a tuple of keys) will be deprecated, use a list instead.\n",
      "  df_sub = df_merged.groupby(['Category', 'Sub Category', 'Brand'], as_index=False)['Cluster', 'Number of Categories', 'Number of Sub Categories'].max()\n"
     ]
    },
    {
     "data": {
      "text/plain": [
       "(1572, 6)"
      ]
     },
     "execution_count": 55,
     "metadata": {},
     "output_type": "execute_result"
    }
   ],
   "source": [
    "\"\"\"sub dataframe as groupby [Category, Sub Category, Brand]\"\"\"\n",
    "df_sub = df_merged.groupby(['Category', 'Sub Category', 'Brand'], as_index=False)['Cluster', 'Number of Categories', 'Number of Sub Categories'].max()\n",
    "df_sub.shape\n",
    "#SHAPE (234, 6)"
   ]
  },
  {
   "cell_type": "code",
   "execution_count": 56,
   "metadata": {},
   "outputs": [],
   "source": [
    "\"\"\"compute high level metrics for time series of Distribution and Price per volume : min, max, mean, std\"\"\"\n",
    "Distribution = df_merged.groupby(['Category', 'Sub Category', 'Brand'], as_index=False)['Distribution'].agg(\n",
    "    {'min Distribution':'min', 'max Distribution':'max', 'mean Distribution':'mean', 'std Distribution':'std'}\n",
    ")\n",
    "\n",
    "\n",
    "Price = df_merged.groupby(['Category', 'Sub Category', 'Brand'], as_index=False)['Price per volume'].agg(\n",
    "    {'min Price':'min', 'max Price':'max', 'mean Price':'mean', 'std Price':'std'}\n",
    ")"
   ]
  },
  {
   "cell_type": "code",
   "execution_count": 57,
   "metadata": {},
   "outputs": [
    {
     "data": {
      "text/plain": [
       "(1572, 14)"
      ]
     },
     "execution_count": 57,
     "metadata": {},
     "output_type": "execute_result"
    }
   ],
   "source": [
    "\"\"\"merge high level metrics into df_sub\"\"\"\n",
    "df_sub = pd.merge(df_sub, Distribution, on=['Category', 'Sub Category', 'Brand'])\n",
    "\n",
    "df_sub = pd.merge(df_sub, Price, on=['Category', 'Sub Category', 'Brand'])\n",
    "df_sub.shape\n",
    "#SHAPE (234, 14)"
   ]
  },
  {
   "cell_type": "code",
   "execution_count": 58,
   "metadata": {},
   "outputs": [
    {
     "data": {
      "text/html": [
       "<div>\n",
       "<style scoped>\n",
       "    .dataframe tbody tr th:only-of-type {\n",
       "        vertical-align: middle;\n",
       "    }\n",
       "\n",
       "    .dataframe tbody tr th {\n",
       "        vertical-align: top;\n",
       "    }\n",
       "\n",
       "    .dataframe thead th {\n",
       "        text-align: right;\n",
       "    }\n",
       "</style>\n",
       "<table border=\"1\" class=\"dataframe\">\n",
       "  <thead>\n",
       "    <tr style=\"text-align: right;\">\n",
       "      <th></th>\n",
       "      <th>Category</th>\n",
       "      <th>Sub Category</th>\n",
       "      <th>Brand</th>\n",
       "      <th>Cluster</th>\n",
       "      <th>Number of Categories</th>\n",
       "      <th>Number of Sub Categories</th>\n",
       "      <th>min Distribution</th>\n",
       "      <th>max Distribution</th>\n",
       "      <th>mean Distribution</th>\n",
       "      <th>std Distribution</th>\n",
       "      <th>min Price</th>\n",
       "      <th>max Price</th>\n",
       "      <th>mean Price</th>\n",
       "      <th>std Price</th>\n",
       "    </tr>\n",
       "  </thead>\n",
       "  <tbody>\n",
       "    <tr>\n",
       "      <th>0</th>\n",
       "      <td>CLASSIC SPREADS</td>\n",
       "      <td>ALL SUB CATEGORIES</td>\n",
       "      <td>ALL BRANDS</td>\n",
       "      <td>4</td>\n",
       "      <td>13</td>\n",
       "      <td>1</td>\n",
       "      <td>6.132761</td>\n",
       "      <td>6.473654</td>\n",
       "      <td>6.272672</td>\n",
       "      <td>0.067641</td>\n",
       "      <td>1.993781</td>\n",
       "      <td>2.178014</td>\n",
       "      <td>2.087621</td>\n",
       "      <td>0.046044</td>\n",
       "    </tr>\n",
       "    <tr>\n",
       "      <th>1</th>\n",
       "      <td>CLASSIC SPREADS</td>\n",
       "      <td>CLASSIC SPREADS</td>\n",
       "      <td>1000 ISLANDS RIVER RAT CHEESE</td>\n",
       "      <td>3</td>\n",
       "      <td>3</td>\n",
       "      <td>1</td>\n",
       "      <td>0.002717</td>\n",
       "      <td>0.026038</td>\n",
       "      <td>0.012917</td>\n",
       "      <td>0.005076</td>\n",
       "      <td>2.195000</td>\n",
       "      <td>2.563410</td>\n",
       "      <td>2.502905</td>\n",
       "      <td>0.073939</td>\n",
       "    </tr>\n",
       "    <tr>\n",
       "      <th>2</th>\n",
       "      <td>CLASSIC SPREADS</td>\n",
       "      <td>CLASSIC SPREADS</td>\n",
       "      <td>AMISH COUNTRY</td>\n",
       "      <td>3</td>\n",
       "      <td>2</td>\n",
       "      <td>1</td>\n",
       "      <td>0.432225</td>\n",
       "      <td>0.879614</td>\n",
       "      <td>0.584620</td>\n",
       "      <td>0.081734</td>\n",
       "      <td>2.195687</td>\n",
       "      <td>2.456572</td>\n",
       "      <td>2.386366</td>\n",
       "      <td>0.040652</td>\n",
       "    </tr>\n",
       "    <tr>\n",
       "      <th>3</th>\n",
       "      <td>CLASSIC SPREADS</td>\n",
       "      <td>CLASSIC SPREADS</td>\n",
       "      <td>APPEL FARM QUARK</td>\n",
       "      <td>3</td>\n",
       "      <td>1</td>\n",
       "      <td>1</td>\n",
       "      <td>0.055242</td>\n",
       "      <td>0.171575</td>\n",
       "      <td>0.106467</td>\n",
       "      <td>0.023035</td>\n",
       "      <td>1.552458</td>\n",
       "      <td>1.863690</td>\n",
       "      <td>1.767229</td>\n",
       "      <td>0.032317</td>\n",
       "    </tr>\n",
       "    <tr>\n",
       "      <th>4</th>\n",
       "      <td>CLASSIC SPREADS</td>\n",
       "      <td>CLASSIC SPREADS</td>\n",
       "      <td>AURICCHIO</td>\n",
       "      <td>1</td>\n",
       "      <td>5</td>\n",
       "      <td>1</td>\n",
       "      <td>0.002909</td>\n",
       "      <td>1.532103</td>\n",
       "      <td>0.781290</td>\n",
       "      <td>0.432320</td>\n",
       "      <td>2.752527</td>\n",
       "      <td>3.339073</td>\n",
       "      <td>3.025957</td>\n",
       "      <td>0.103222</td>\n",
       "    </tr>\n",
       "    <tr>\n",
       "      <th>...</th>\n",
       "      <td>...</td>\n",
       "      <td>...</td>\n",
       "      <td>...</td>\n",
       "      <td>...</td>\n",
       "      <td>...</td>\n",
       "      <td>...</td>\n",
       "      <td>...</td>\n",
       "      <td>...</td>\n",
       "      <td>...</td>\n",
       "      <td>...</td>\n",
       "      <td>...</td>\n",
       "      <td>...</td>\n",
       "      <td>...</td>\n",
       "      <td>...</td>\n",
       "    </tr>\n",
       "    <tr>\n",
       "      <th>1567</th>\n",
       "      <td>SNACKING COMBOS</td>\n",
       "      <td>CHEESE SNACKING COMBO</td>\n",
       "      <td>KRAMER FARMS PRO GO</td>\n",
       "      <td>3</td>\n",
       "      <td>1</td>\n",
       "      <td>1</td>\n",
       "      <td>0.036995</td>\n",
       "      <td>1.516007</td>\n",
       "      <td>0.748327</td>\n",
       "      <td>0.517307</td>\n",
       "      <td>2.299926</td>\n",
       "      <td>2.716994</td>\n",
       "      <td>2.470643</td>\n",
       "      <td>0.081323</td>\n",
       "    </tr>\n",
       "    <tr>\n",
       "      <th>1568</th>\n",
       "      <td>SNACKING COMBOS</td>\n",
       "      <td>CHEESE SNACKING COMBO</td>\n",
       "      <td>LUNCHABLES</td>\n",
       "      <td>2</td>\n",
       "      <td>1</td>\n",
       "      <td>2</td>\n",
       "      <td>4.229371</td>\n",
       "      <td>4.894106</td>\n",
       "      <td>4.718607</td>\n",
       "      <td>0.153511</td>\n",
       "      <td>1.659706</td>\n",
       "      <td>2.148748</td>\n",
       "      <td>1.957962</td>\n",
       "      <td>0.103826</td>\n",
       "    </tr>\n",
       "    <tr>\n",
       "      <th>1569</th>\n",
       "      <td>SNACKING COMBOS</td>\n",
       "      <td>CHEESE SNACKING COMBO</td>\n",
       "      <td>OLD FASHIONED</td>\n",
       "      <td>3</td>\n",
       "      <td>3</td>\n",
       "      <td>1</td>\n",
       "      <td>0.153924</td>\n",
       "      <td>1.876001</td>\n",
       "      <td>0.815134</td>\n",
       "      <td>0.459244</td>\n",
       "      <td>1.807638</td>\n",
       "      <td>2.593447</td>\n",
       "      <td>2.415535</td>\n",
       "      <td>0.116768</td>\n",
       "    </tr>\n",
       "    <tr>\n",
       "      <th>1570</th>\n",
       "      <td>SNACKING COMBOS</td>\n",
       "      <td>CHEESE SNACKING COMBO</td>\n",
       "      <td>PRIVATE LABEL</td>\n",
       "      <td>4</td>\n",
       "      <td>13</td>\n",
       "      <td>4</td>\n",
       "      <td>3.980449</td>\n",
       "      <td>4.854523</td>\n",
       "      <td>4.598985</td>\n",
       "      <td>0.195991</td>\n",
       "      <td>2.333992</td>\n",
       "      <td>2.583540</td>\n",
       "      <td>2.420705</td>\n",
       "      <td>0.054282</td>\n",
       "    </tr>\n",
       "    <tr>\n",
       "      <th>1571</th>\n",
       "      <td>SNACKING COMBOS</td>\n",
       "      <td>CHEESE SNACKING COMBO</td>\n",
       "      <td>SARGENTO</td>\n",
       "      <td>2</td>\n",
       "      <td>5</td>\n",
       "      <td>2</td>\n",
       "      <td>6.285330</td>\n",
       "      <td>6.769844</td>\n",
       "      <td>6.638445</td>\n",
       "      <td>0.082588</td>\n",
       "      <td>2.387198</td>\n",
       "      <td>2.606145</td>\n",
       "      <td>2.539814</td>\n",
       "      <td>0.042063</td>\n",
       "    </tr>\n",
       "  </tbody>\n",
       "</table>\n",
       "<p>1572 rows × 14 columns</p>\n",
       "</div>"
      ],
      "text/plain": [
       "             Category           Sub Category                          Brand  \\\n",
       "0     CLASSIC SPREADS     ALL SUB CATEGORIES                     ALL BRANDS   \n",
       "1     CLASSIC SPREADS        CLASSIC SPREADS  1000 ISLANDS RIVER RAT CHEESE   \n",
       "2     CLASSIC SPREADS        CLASSIC SPREADS                  AMISH COUNTRY   \n",
       "3     CLASSIC SPREADS        CLASSIC SPREADS               APPEL FARM QUARK   \n",
       "4     CLASSIC SPREADS        CLASSIC SPREADS                      AURICCHIO   \n",
       "...               ...                    ...                            ...   \n",
       "1567  SNACKING COMBOS  CHEESE SNACKING COMBO            KRAMER FARMS PRO GO   \n",
       "1568  SNACKING COMBOS  CHEESE SNACKING COMBO                     LUNCHABLES   \n",
       "1569  SNACKING COMBOS  CHEESE SNACKING COMBO                  OLD FASHIONED   \n",
       "1570  SNACKING COMBOS  CHEESE SNACKING COMBO                  PRIVATE LABEL   \n",
       "1571  SNACKING COMBOS  CHEESE SNACKING COMBO                       SARGENTO   \n",
       "\n",
       "      Cluster  Number of Categories  Number of Sub Categories  \\\n",
       "0           4                    13                         1   \n",
       "1           3                     3                         1   \n",
       "2           3                     2                         1   \n",
       "3           3                     1                         1   \n",
       "4           1                     5                         1   \n",
       "...       ...                   ...                       ...   \n",
       "1567        3                     1                         1   \n",
       "1568        2                     1                         2   \n",
       "1569        3                     3                         1   \n",
       "1570        4                    13                         4   \n",
       "1571        2                     5                         2   \n",
       "\n",
       "      min Distribution  max Distribution  mean Distribution  std Distribution  \\\n",
       "0             6.132761          6.473654           6.272672          0.067641   \n",
       "1             0.002717          0.026038           0.012917          0.005076   \n",
       "2             0.432225          0.879614           0.584620          0.081734   \n",
       "3             0.055242          0.171575           0.106467          0.023035   \n",
       "4             0.002909          1.532103           0.781290          0.432320   \n",
       "...                ...               ...                ...               ...   \n",
       "1567          0.036995          1.516007           0.748327          0.517307   \n",
       "1568          4.229371          4.894106           4.718607          0.153511   \n",
       "1569          0.153924          1.876001           0.815134          0.459244   \n",
       "1570          3.980449          4.854523           4.598985          0.195991   \n",
       "1571          6.285330          6.769844           6.638445          0.082588   \n",
       "\n",
       "      min Price  max Price  mean Price  std Price  \n",
       "0      1.993781   2.178014    2.087621   0.046044  \n",
       "1      2.195000   2.563410    2.502905   0.073939  \n",
       "2      2.195687   2.456572    2.386366   0.040652  \n",
       "3      1.552458   1.863690    1.767229   0.032317  \n",
       "4      2.752527   3.339073    3.025957   0.103222  \n",
       "...         ...        ...         ...        ...  \n",
       "1567   2.299926   2.716994    2.470643   0.081323  \n",
       "1568   1.659706   2.148748    1.957962   0.103826  \n",
       "1569   1.807638   2.593447    2.415535   0.116768  \n",
       "1570   2.333992   2.583540    2.420705   0.054282  \n",
       "1571   2.387198   2.606145    2.539814   0.042063  \n",
       "\n",
       "[1572 rows x 14 columns]"
      ]
     },
     "execution_count": 58,
     "metadata": {},
     "output_type": "execute_result"
    }
   ],
   "source": [
    "df_sub"
   ]
  },
  {
   "cell_type": "code",
   "execution_count": 59,
   "metadata": {},
   "outputs": [
    {
     "data": {
      "text/plain": [
       "RandomForestClassifier(max_depth=6, random_state=0)"
      ]
     },
     "execution_count": 59,
     "metadata": {},
     "output_type": "execute_result"
    }
   ],
   "source": [
    "\"\"\"train RandomForestClassifier to classify [Category, Sub Category, Brand] in the correct clusters\"\"\"\n",
    "clf = RandomForestClassifier(max_depth=6, random_state=0)\n",
    "\n",
    "X = df_sub.loc[:, ~df_sub.columns.isin(['Brand', 'Category', 'Sub Category', 'Cluster'])].astype(float)\n",
    "y = df_sub['Cluster'].astype(float)\n",
    "\n",
    "X_train, X_test, y_train, y_test = train_test_split(X, y, test_size=0.33, random_state=42)\n",
    "\n",
    "clf.fit(X_train, y_train)\n"
   ]
  },
  {
   "cell_type": "code",
   "execution_count": 61,
   "metadata": {},
   "outputs": [
    {
     "data": {
      "text/plain": [
       "Index(['Number of Categories', 'Number of Sub Categories', 'min Distribution',\n",
       "       'max Distribution', 'mean Distribution', 'std Distribution',\n",
       "       'min Price', 'max Price', 'mean Price', 'std Price'],\n",
       "      dtype='object')"
      ]
     },
     "execution_count": 61,
     "metadata": {},
     "output_type": "execute_result"
    }
   ],
   "source": [
    "X.columns"
   ]
  },
  {
   "cell_type": "code",
   "execution_count": 16,
   "metadata": {},
   "outputs": [],
   "source": [
    "\"\"\"save model\"\"\"\n",
    "#pickle.dump(clf, open(PATH_OUT+'classifier_USA.sav', 'wb'))"
   ]
  },
  {
   "cell_type": "code",
   "execution_count": 15,
   "metadata": {},
   "outputs": [
    {
     "data": {
      "text/plain": [
       "<sklearn.metrics._plot.confusion_matrix.ConfusionMatrixDisplay at 0x1687e0d00>"
      ]
     },
     "execution_count": 15,
     "metadata": {},
     "output_type": "execute_result"
    },
    {
     "data": {
      "image/png": "[encoded data removed]",
      "text/plain": [
       "<Figure size 432x288 with 2 Axes>"
      ]
     },
     "metadata": {
      "needs_background": "light"
     },
     "output_type": "display_data"
    }
   ],
   "source": [
    "\"\"\"Confusion matrix to evaluate the classifier\"\"\"\n",
    "y_pred=clf.predict(X_test)\n",
    "cm = confusion_matrix(y_test, y_pred, labels=clf.classes_)\n",
    "disp = ConfusionMatrixDisplay(confusion_matrix=cm, display_labels=clf.classes_)\n",
    "disp.plot()"
   ]
  },
  {
   "cell_type": "code",
   "execution_count": null,
   "metadata": {},
   "outputs": [],
   "source": []
  },
  {
   "cell_type": "code",
   "execution_count": null,
   "metadata": {},
   "outputs": [],
   "source": []
  },
  {
   "cell_type": "code",
   "execution_count": null,
   "metadata": {},
   "outputs": [],
   "source": []
  }
 ],
 "metadata": {
  "kernelspec": {
   "display_name": "gm_tool",
   "language": "python",
   "name": "gm_tool"
  },
  "language_info": {
   "codemirror_mode": {
    "name": "ipython",
    "version": 3
   },
   "file_extension": ".py",
   "mimetype": "text/x-python",
   "name": "python",
   "nbconvert_exporter": "python",
   "pygments_lexer": "ipython3",
   "version": "3.9.10"
  },
  "orig_nbformat": 4
 },
 "nbformat": 4,
 "nbformat_minor": 2
}
